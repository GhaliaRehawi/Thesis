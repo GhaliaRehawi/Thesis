{
 "cells": [
  {
   "cell_type": "code",
   "execution_count": null,
   "metadata": {
    "collapsed": true
   },
   "outputs": [],
   "source": [
    "import numpy as np\n",
    "import os\n",
    "from PIL import Image\n",
    "\n",
    "from fnmatch import fnmatch\n",
    "from skimage import io\n",
    "from filtering.filters import Median\n",
    "from feature_extraction.gabor import Gabor\n",
    "from sklearn.neighbors import NearestNeighbors\n",
    "import sklearn\n",
    "from skimage.util import img_as_float\n",
    "from skimage.filters import gabor_kernel\n",
    "from scipy import ndimage as ndi"
   ]
  },
  {
   "cell_type": "code",
   "execution_count": null,
   "metadata": {
    "collapsed": true
   },
   "outputs": [],
   "source": [
    "#Read Test Samples\n",
    "root = '../patches_64x64_train_50k/0'\n",
    "pattern = \"*.png\"\n",
    "\n",
    "\n",
    "#Get all images from subdirectories\n",
    "img_list = []\n",
    "for path, subdirs, files in os.walk(root):\n",
    "    for name in files:\n",
    "        if fnmatch(name, pattern):\n",
    "            img_list.append(os.path.join(path, name) )"
   ]
  },
  {
   "cell_type": "code",
   "execution_count": null,
   "metadata": {
    "collapsed": true
   },
   "outputs": [],
   "source": [
    "#feature extraction\n",
    "samples_feats_matrix = np.zeros((30000, 8))\n",
    "for i, img in enumerate(img_list):\n",
    "    im = np.array(Image.open(img))\n",
    "    #apply median filter\n",
    "    filtered_img = Median(im)\n",
    "    #extract features\n",
    "    samples_feats_matrix[i] = Gabor(im)"
   ]
  },
  {
   "cell_type": "code",
   "execution_count": null,
   "metadata": {
    "collapsed": true
   },
   "outputs": [],
   "source": [
    "np.save(\"train_samples_feats_matrix_Gabor\", samples_feats_matrix)"
   ]
  },
  {
   "cell_type": "code",
   "execution_count": null,
   "metadata": {
    "collapsed": true
   },
   "outputs": [],
   "source": [
    "#Read Test Samples\n",
    "root = '../patches_64x64_valid_10k'\n",
    "pattern = \"*.png\"\n",
    "\n",
    "#Get all images from subdirectories\n",
    "img_list2 = []\n",
    "for path, subdirs, files in os.walk(root):\n",
    "    for name in files:\n",
    "        if fnmatch(name, pattern):\n",
    "            img_list2.append(os.path.join(path, name) )"
   ]
  },
  {
   "cell_type": "code",
   "execution_count": null,
   "metadata": {
    "collapsed": true
   },
   "outputs": [],
   "source": [
    "#feature extraction\n",
    "valid_feats_matrix = np.zeros((10000, 8))\n",
    "for i, img in enumerate(img_list2):\n",
    "    im = np.array(Image.open(img))\n",
    "    #apply median filter\n",
    "    filtered_img = Median(im)\n",
    "    #extract features\n",
    "    valid_feats_matrix[i] = Gabor(im)"
   ]
  },
  {
   "cell_type": "code",
   "execution_count": null,
   "metadata": {
    "collapsed": true
   },
   "outputs": [],
   "source": [
    "np.save(\"valid_samples_feats_matrix_Gabor\", valid_feats_matrix)"
   ]
  },
  {
   "cell_type": "code",
   "execution_count": null,
   "metadata": {
    "collapsed": true
   },
   "outputs": [],
   "source": [
    "#Read Test Samples\n",
    "root = '../patches_64x64_valid-test_10k/'\n",
    "pattern = \"*.png\"\n",
    "\n",
    "\n",
    "#Get all images from subdirectories\n",
    "img_list3 = []\n",
    "for path, subdirs, files in os.walk(root):\n",
    "    for name in files:\n",
    "        if fnmatch(name, pattern):\n",
    "            img_list3.append(os.path.join(path, name) )"
   ]
  },
  {
   "cell_type": "code",
   "execution_count": null,
   "metadata": {
    "collapsed": true
   },
   "outputs": [],
   "source": [
    "#feature extraction\n",
    "test_feats_matrix = np.zeros((10000, 8))\n",
    "for i, img in enumerate(img_list3):\n",
    "    im = np.array(Image.open(img))\n",
    "    #apply median filter\n",
    "    filtered_img = Median(im)\n",
    "    #extract features\n",
    "    test_feats_matrix[i] = Gabor(im)"
   ]
  },
  {
   "cell_type": "code",
   "execution_count": null,
   "metadata": {
    "collapsed": true
   },
   "outputs": [],
   "source": [
    "np.save(\"test_samples_feats_matrix_Gabor\", test_feats_matrix)"
   ]
  },
  {
   "cell_type": "code",
   "execution_count": null,
   "metadata": {
    "collapsed": true
   },
   "outputs": [],
   "source": []
  }
 ],
 "metadata": {
  "kernelspec": {
   "display_name": "Python 2",
   "language": "python",
   "name": "python2"
  },
  "language_info": {
   "codemirror_mode": {
    "name": "ipython",
    "version": 2
   },
   "file_extension": ".py",
   "mimetype": "text/x-python",
   "name": "python",
   "nbconvert_exporter": "python",
   "pygments_lexer": "ipython2",
   "version": "2.7.13"
  }
 },
 "nbformat": 4,
 "nbformat_minor": 2
}
