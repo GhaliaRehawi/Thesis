{
 "cells": [
  {
   "cell_type": "code",
   "execution_count": 1,
   "metadata": {
    "collapsed": true
   },
   "outputs": [],
   "source": [
    "import os\n",
    "from fnmatch import fnmatch\n",
    "from trainData_featExt_glcm import trainData_featExt_glcm\n",
    "from trainData_featExt_gabor import trainData_featExt_gabor\n",
    "import numpy as np\n",
    "from PIL import Image\n",
    "from filtering.filters import Median\n",
    "from feature_extraction.lbp import Lbp\n",
    "from sklearn.neighbors import NearestNeighbors\n",
    "import sklearn\n",
    "import time\n",
    "from sklearn.metrics.pairwise import euclidean_distances\n",
    "from sklearn.preprocessing import normalize\n",
    "from sklearn import preprocessing\n",
    "import pickle"
   ]
  },
  {
   "cell_type": "code",
   "execution_count": 2,
   "metadata": {
    "collapsed": true
   },
   "outputs": [],
   "source": [
    "#load training samples feature vector\n",
    "train_samples_feats_matrix_gabor = np.load(\"train_samples_feats_matrix_Gabor.npy\")"
   ]
  },
  {
   "cell_type": "code",
   "execution_count": 3,
   "metadata": {
    "collapsed": true
   },
   "outputs": [],
   "source": [
    "#load training samples feature vector\n",
    "train_samples_feats_matrix_glcm = np.load(\"train_samples_feats_matrix_GLCM.npy\")"
   ]
  },
  {
   "cell_type": "code",
   "execution_count": 4,
   "metadata": {
    "collapsed": true
   },
   "outputs": [],
   "source": [
    "#load training samples feature vector\n",
    "valid_samples_feats_matrix_gabor = np.load(\"valid_samples_feats_matrix_Gabor.npy\")"
   ]
  },
  {
   "cell_type": "code",
   "execution_count": 5,
   "metadata": {
    "collapsed": true
   },
   "outputs": [],
   "source": [
    "#load training samples feature vector\n",
    "valid_samples_feats_matrix_glcm = np.load(\"valid_samples_feats_matrix_GLCM.npy\")"
   ]
  },
  {
   "cell_type": "code",
   "execution_count": 6,
   "metadata": {
    "collapsed": true
   },
   "outputs": [],
   "source": [
    "#concatenating features \n",
    "train_samples_feats_matrix_glcm_gabor = np.concatenate((train_samples_feats_matrix_glcm,train_samples_feats_matrix_gabor), axis=1)\n",
    "valid_samples_feats_matrix_glcm_gabor = np.concatenate((valid_samples_feats_matrix_glcm,valid_samples_feats_matrix_gabor), axis=1)"
   ]
  },
  {
   "cell_type": "code",
   "execution_count": 7,
   "metadata": {
    "collapsed": true
   },
   "outputs": [],
   "source": [
    "test_samples_feats_matrix_GLCM = np.load(\"test_samples_feats_matrix_GLCM.npy\")\n",
    "test_samples_feats_matrix_Gabor = np.load(\"test_samples_feats_matrix_Gabor.npy\")\n",
    "test_samples_feats_matrix_glcm_gabor = np.concatenate((test_samples_feats_matrix_GLCM,test_samples_feats_matrix_Gabor), axis=1)"
   ]
  },
  {
   "cell_type": "code",
   "execution_count": 18,
   "metadata": {},
   "outputs": [
    {
     "name": "stdout",
     "output_type": "stream",
     "text": [
      "('traing time: ', 0.07112407684326172)\n"
     ]
    }
   ],
   "source": [
    "#Train a KNN model using training data\n",
    "t0 = time.time()\n",
    "knn_model = NearestNeighbors(1000, algorithm = 'kd_tree', metric ='euclidean')\n",
    "knn_model.fit(train_samples_feats_matrix_glcm_gabor) \n",
    "print(\"traing time: \", time.time() - t0)"
   ]
  },
  {
   "cell_type": "code",
   "execution_count": null,
   "metadata": {
    "collapsed": true
   },
   "outputs": [],
   "source": [
    "knn_model = pickle.load( open( \"KNN_['GLCM', 'Gabor']_500\", \"rb\" ))"
   ]
  },
  {
   "cell_type": "code",
   "execution_count": 19,
   "metadata": {
    "collapsed": true
   },
   "outputs": [],
   "source": [
    "#find k nearest points for each sample\n",
    "kth_dist, kth_ind = knn_model.kneighbors(train_samples_feats_matrix_glcm_gabor)\n",
    "#1-D array contains distances of each data point to its kth nearest point \n",
    "kth_nearest_dist = kth_dist[:,-1]"
   ]
  },
  {
   "cell_type": "code",
   "execution_count": 20,
   "metadata": {
    "collapsed": true
   },
   "outputs": [],
   "source": [
    "#find k nearest points for each valid sample\n",
    "kth_dist2, kth_ind2 = knn_model.kneighbors(valid_samples_feats_matrix_glcm_gabor)\n",
    "#1-D array contains distances of each data point to its kth nearest point\n",
    "kth_nearest_dist2 = kth_dist2[:,-1]\n",
    "labels = np.repeat(0,10000)\n",
    "#each validation data point whose distance to its kth nearest exceeds the \n",
    "#threshold, which is np.aman(kth_nearest_dist) is novel (0)\n",
    "labels[kth_nearest_dist2 > np.mean(kth_nearest_dist)] = 1"
   ]
  },
  {
   "cell_type": "code",
   "execution_count": 21,
   "metadata": {
    "collapsed": true
   },
   "outputs": [],
   "source": [
    "#Ground truth\n",
    "y1 = np.repeat(0, 6000) #normal\n",
    "y2 = np.repeat(1, 4000) #abnormal\n",
    "y = np.concatenate((y1,y2))"
   ]
  },
  {
   "cell_type": "code",
   "execution_count": 22,
   "metadata": {},
   "outputs": [
    {
     "name": "stdout",
     "output_type": "stream",
     "text": [
      "('kappa ', 0.50353734781178017)\n",
      "('f1_binary: ', 0.70957651588065462, 'f1_macro: ', 0.75151994856318849, 'MAth_cof: ', 0.50457715574934237, ' auc: ', 0.8070859583333333)\n",
      "('confusion matrix', 4637, 1363, 1051, 2949)\n"
     ]
    }
   ],
   "source": [
    "f1_binary = sklearn.metrics.f1_score(y, labels, average = 'binary')\n",
    "f1_macro = sklearn.metrics.f1_score(y, labels, average = 'macro')\n",
    "auc = sklearn.metrics.roc_auc_score(y, kth_nearest_dist2)\n",
    "Math_Cof = sklearn.metrics.matthews_corrcoef(y, labels) \n",
    "kappa = sklearn.metrics.cohen_kappa_score(y, labels)\n",
    "print(\"kappa \", kappa)\n",
    "tn, fp, fn, tp  = sklearn.metrics.confusion_matrix(y, labels).ravel()\n",
    "print (\"f1_binary: \", f1_binary, \"f1_macro: \", f1_macro, \"MAth_cof: \", Math_Cof , \" auc: \", auc)\n",
    "print(\"confusion matrix\", tn, fp, fn, tp)"
   ]
  },
  {
   "cell_type": "code",
   "execution_count": null,
   "metadata": {
    "collapsed": true
   },
   "outputs": [],
   "source": [
    "#Get different thresholds value from ROC with corresponding F1_score and AUC\n",
    "fpr,tpr,thresh = sklearn.metrics.roc_curve(y, kth_nearest_dist2)\n",
    "for t, thres in enumerate (thresh) :\n",
    "    labels = np.repeat(0,10000)\n",
    "    labels[kth_nearest_dist2 > thres] = 1\n",
    "    f1 = sklearn.metrics.f1_score(y, labels, average = 'macro')\n",
    "    #auc = sklearn.metrics.roc_auc_score(y, kth_nearest_dist2)\n",
    "    print (\"f1: \", f1, \"thres: \", thres)"
   ]
  },
  {
   "cell_type": "code",
   "execution_count": null,
   "metadata": {
    "collapsed": true
   },
   "outputs": [],
   "source": [
    "import matplotlib.pyplot as pl\n",
    "import matplotlib\n",
    "from skimage import io\n",
    "\n",
    "fpr,tpr,thresh = sklearn.metrics.roc_curve(y,kth_nearest_dist2)\n",
    "\n",
    "f,ax = pl.subplots(1,1)\n",
    "ax.plot(fpr,tpr,label=\"KNN\")\n",
    "ax.set_xlabel(\"False Positive Rate\")\n",
    "ax.set_ylabel(\"True Positive Rate\")\n",
    "ax.set_title(\"ROC curves\")\n",
    "ax.legend(loc=\"lower right\")\n",
    "# these are matplotlib.patch.Patch properties\n",
    "#props = dict(boxstyle='square', facecolor='white', alpha=0.5)\n",
    "\n",
    "#textstr = '$F1-binary=%.2f$\\n$F1-macro=%.2f$\\n$math-corcoeffient=%.2f$\\n$AUC=%.2f$'%(0.7, 0.74, 0.5, 0.8)\n",
    "# place a text box in upper left in axes coords\n",
    "#ax.text(0.95, 0.2, textstr, transform=ax.transAxes, fontsize=13,\n",
    "#    horizontalalignment='right', verticalalignment='bottom', bbox=props)\n",
    "\n",
    "io.show()"
   ]
  },
  {
   "cell_type": "code",
   "execution_count": null,
   "metadata": {
    "collapsed": true
   },
   "outputs": [],
   "source": [
    "f.savefig('KNN_GLCM_Gabor_500.png')"
   ]
  },
  {
   "cell_type": "code",
   "execution_count": 8,
   "metadata": {},
   "outputs": [
    {
     "name": "stdout",
     "output_type": "stream",
     "text": [
      "[[ 0.04067456  0.00818885  0.04068    ...,  0.71921904  0.32246698\n",
      "   0.17271638]\n",
      " [ 0.22808918  0.04542157  0.22811982 ...,  0.04304621  0.43836488\n",
      "   0.04508741]\n",
      " [ 0.29741772  0.05965647  0.29746722 ...,  0.04249588  0.39801036\n",
      "   0.04080026]\n",
      " ..., \n",
      " [ 0.08327351  0.01668433  0.08328117 ...,  0.03782816  0.49477563\n",
      "   0.0468388 ]\n",
      " [ 0.36704435  0.07271599  0.3670935  ...,  0.03845795  0.32909435\n",
      "   0.02946692]\n",
      " [ 0.38879007  0.07735422  0.38885305 ...,  0.02249949  0.30242688\n",
      "   0.02115274]]\n"
     ]
    }
   ],
   "source": [
    "print test_samples_feats_matrix_Gabor"
   ]
  },
  {
   "cell_type": "code",
   "execution_count": 9,
   "metadata": {},
   "outputs": [
    {
     "name": "stdout",
     "output_type": "stream",
     "text": [
      "[[  8.93458933e-02   2.35035211e-01   1.94728241e-01 ...,   2.36283131e-05\n",
      "    2.07620139e-05   2.49394241e-05]\n",
      " [  1.56913962e-01   2.32400757e-01   1.52913882e-01 ...,   4.00539066e-05\n",
      "    4.25214508e-05   3.94451985e-05]\n",
      " [  1.40374228e-01   1.98424296e-01   1.49077918e-01 ...,   4.91008804e-05\n",
      "    4.00991173e-05   4.09880328e-05]\n",
      " ..., \n",
      " [  1.11267827e-01   1.46887882e-01   1.24380977e-01 ...,   3.52089612e-05\n",
      "    3.10692812e-05   3.35108581e-05]\n",
      " [  1.42270071e-01   2.31652246e-01   1.73836788e-01 ...,   3.42573591e-04\n",
      "    3.40316535e-04   3.65707206e-04]\n",
      " [  1.79629374e-01   2.42687798e-01   1.61647567e-01 ...,   4.16565901e-04\n",
      "    4.14679822e-04   4.22613345e-04]]\n"
     ]
    }
   ],
   "source": [
    "print test_samples_feats_matrix_GLCM"
   ]
  },
  {
   "cell_type": "code",
   "execution_count": null,
   "metadata": {
    "collapsed": true
   },
   "outputs": [],
   "source": []
  }
 ],
 "metadata": {
  "kernelspec": {
   "display_name": "Python 2",
   "language": "python",
   "name": "python2"
  },
  "language_info": {
   "codemirror_mode": {
    "name": "ipython",
    "version": 2
   },
   "file_extension": ".py",
   "mimetype": "text/x-python",
   "name": "python",
   "nbconvert_exporter": "python",
   "pygments_lexer": "ipython2",
   "version": "2.7.13"
  }
 },
 "nbformat": 4,
 "nbformat_minor": 2
}
