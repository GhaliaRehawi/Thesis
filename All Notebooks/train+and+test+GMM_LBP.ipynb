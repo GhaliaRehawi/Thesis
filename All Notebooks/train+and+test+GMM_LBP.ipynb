{
 "cells": [
  {
   "cell_type": "code",
   "execution_count": 1,
   "metadata": {
    "collapsed": true
   },
   "outputs": [],
   "source": [
    "import os\n",
    "from fnmatch import fnmatch\n",
    "import numpy as np\n",
    "from PIL import Image\n",
    "from filtering.filters import Median\n",
    "from feature_extraction.lbp import Lbp\n",
    "import sklearn\n",
    "import time\n",
    "from gmm import Gmm\n",
    "from skimage.feature import local_binary_pattern\n",
    "from scipy.stats import itemfreq\n",
    "from sklearn.preprocessing import normalize\n",
    "import pickle"
   ]
  },
  {
   "cell_type": "code",
   "execution_count": 2,
   "metadata": {},
   "outputs": [
    {
     "name": "stdout",
     "output_type": "stream",
     "text": [
      "loading features\n",
      "features loaded\n"
     ]
    }
   ],
   "source": [
    "#Read features of training samples (30000x26)\n",
    "print(\"loading features\")\n",
    "train_samples_feats_matrix_LBP = np.load(\"train_samples_feats_matrix_LBP.npy\")\n",
    "print(\"features loaded\")"
   ]
  },
  {
   "cell_type": "code",
   "execution_count": 5,
   "metadata": {},
   "outputs": [
    {
     "name": "stdout",
     "output_type": "stream",
     "text": [
      "[[ 0.08447266  0.01733398  0.02392578 ...,  0.01757812  0.05786133\n",
      "   0.51708984]\n",
      " [ 0.0871582   0.01806641  0.02587891 ...,  0.01806641  0.04956055\n",
      "   0.55541992]\n",
      " [ 0.07397461  0.02441406  0.02270508 ...,  0.01538086  0.05371094\n",
      "   0.5065918 ]\n",
      " ..., \n",
      " [ 0.09277344  0.01635742  0.01977539 ...,  0.01635742  0.04370117\n",
      "   0.53759766]\n",
      " [ 0.08544922  0.01879883  0.02368164 ...,  0.0144043   0.05126953\n",
      "   0.52270508]\n",
      " [ 0.08349609  0.02270508  0.02441406 ...,  0.02124023  0.05004883\n",
      "   0.59887695]]\n"
     ]
    }
   ],
   "source": [
    "print (train_samples_feats_matrix_LBP)"
   ]
  },
  {
   "cell_type": "code",
   "execution_count": null,
   "metadata": {
    "collapsed": true
   },
   "outputs": [],
   "source": [
    "#Train a gaussian mixture model from training data\n",
    "t0 = time.time()\n",
    "gm_model = sklearn.mixture.GaussianMixture(n_components=300, covariance_type='full')\n",
    "gm_model.fit(train_samples_feats_matrix_LBP)\n",
    "print(\"traing time: \", time.time() - t0)"
   ]
  },
  {
   "cell_type": "code",
   "execution_count": null,
   "metadata": {
    "collapsed": true
   },
   "outputs": [],
   "source": [
    "#load validation samples feature matrix (10000x26)\n",
    "valid_samples_feats_matrix = np.load(\"valid_samples_feats_matrix_LBP.npy\")"
   ]
  },
  {
   "cell_type": "code",
   "execution_count": 2,
   "metadata": {
    "collapsed": true
   },
   "outputs": [],
   "source": [
    "test_samples_feats_matrix = np.load(\"test_samples_feats_matrix_LBP.npy\")"
   ]
  },
  {
   "cell_type": "code",
   "execution_count": 3,
   "metadata": {
    "collapsed": true
   },
   "outputs": [],
   "source": [
    "gm_model = pickle.load( open( 'GMM_LBP_500', \"rb\" ))"
   ]
  },
  {
   "cell_type": "code",
   "execution_count": 4,
   "metadata": {
    "collapsed": true
   },
   "outputs": [],
   "source": [
    "#Predict labels of the new data points\n",
    "y_predict = gm_model.predict(test_samples_feats_matrix)\n",
    "#Predict novelty score of new data points\n",
    "y_predict_score = gm_model.score_samples(test_samples_feats_matrix)\n",
    "tmp = []\n",
    "\n",
    "#x_predict_score = gm_model.score_samples(train_samples_feats_matrix_LBP)\n",
    "#novelty_thresh = np.amin(x_predict_score)\n",
    "\n",
    "# if data point belongs to the model then 1 else 0\n",
    "tmp = np.repeat(1, 10000)\n",
    "tmp[y_predict_score < 152.270658392] = 0\n"
   ]
  },
  {
   "cell_type": "code",
   "execution_count": null,
   "metadata": {
    "collapsed": true
   },
   "outputs": [],
   "source": [
    "print novelty_thresh"
   ]
  },
  {
   "cell_type": "code",
   "execution_count": 5,
   "metadata": {
    "collapsed": true
   },
   "outputs": [],
   "source": [
    "#Ground truth\n",
    "y1 = np.repeat(1, 6000) #normal\n",
    "y2 = np.repeat(0, 4000) #abnormal\n",
    "y = np.concatenate((y1,y2))"
   ]
  },
  {
   "cell_type": "code",
   "execution_count": 6,
   "metadata": {},
   "outputs": [
    {
     "name": "stdout",
     "output_type": "stream",
     "text": [
      "('f1_binary: ', 0.5737184115523466, 'f1_macro: ', 0.30685920577617332, 'MAth_cof: ', 0.05541719940458658, ' auc: ', 0.60588525000000004)\n"
     ]
    }
   ],
   "source": [
    "f1_binary = sklearn.metrics.f1_score(y, tmp,pos_label = 0, average = 'binary')\n",
    "f1_macro = sklearn.metrics.f1_score(y, tmp, average = 'macro')\n",
    "auc = sklearn.metrics.roc_auc_score(y, y_predict_score)\n",
    "Math_Cof = sklearn.metrics.matthews_corrcoef(y, tmp) \n",
    "print (\"f1_binary: \", f1_binary, \"f1_macro: \", f1_macro, \"MAth_cof: \", Math_Cof , \" auc: \", auc)"
   ]
  },
  {
   "cell_type": "code",
   "execution_count": null,
   "metadata": {
    "collapsed": true
   },
   "outputs": [],
   "source": [
    "#Get different thresholds value from ROC with corresponding F1_score and AUC\n",
    "fpr,tpr,thresh = sklearn.metrics.roc_curve(y, y_predict_score)\n",
    "for t, thres in enumerate (thresh) :\n",
    "    tmp = np.repeat(0,10000)\n",
    "    tmp[y_predict_score < thres] = 1\n",
    "    f1_binary = sklearn.metrics.f1_score(y, tmp, average = 'binary')\n",
    "    f1_macro = sklearn.metrics.f1_score(y, tmp, average = 'macro')\n",
    "    Math_Cof = sklearn.metrics.matthews_corrcoef(y, tmp) \n",
    "    print (\"f1_binary: \", f1_binary, \"f1_macro: \", f1_macro, \"MAth_cof: \", Math_Cof , \"thres: \", thres)"
   ]
  },
  {
   "cell_type": "code",
   "execution_count": null,
   "metadata": {
    "collapsed": true
   },
   "outputs": [],
   "source": [
    "import matplotlib.pyplot as pl\n",
    "import matplotlib\n",
    "from skimage import io\n",
    "\n",
    "fpr,tpr,thresh = sklearn.metrics.roc_curve(y, y_predict_score)\n",
    "\n",
    "f,ax = pl.subplots(1,1)\n",
    "ax.plot(fpr,tpr,label=\"GMM\")\n",
    "ax.set_xlabel(\"False Positive Rate\")\n",
    "ax.set_ylabel(\"True Positive Rate\")\n",
    "ax.set_title(\"ROC curves\")\n",
    "ax.legend(loc=\"lower right\")\n",
    "# these are matplotlib.patch.Patch properties\n",
    "props = dict(boxstyle='square', facecolor='white', alpha=0.5)\n",
    "\n",
    "textstr = '$F1-binary=%.2f$\\n$F1-macro=%.2f$\\n$math-corcoeffient=%.2f$\\n$AUC=%.2f$'%(0.58, 0.64, 0.29, 0.69)\n",
    "# place a text box in upper left in axes coords\n",
    "ax.text(0.95, 0.2, textstr, transform=ax.transAxes, fontsize=14,\n",
    "    horizontalalignment='right', verticalalignment='bottom', bbox=props)\n",
    "\n",
    "io.show()"
   ]
  },
  {
   "cell_type": "code",
   "execution_count": null,
   "metadata": {
    "collapsed": true
   },
   "outputs": [],
   "source": [
    "f.savefig('GMM_LBP_500.png')"
   ]
  },
  {
   "cell_type": "code",
   "execution_count": null,
   "metadata": {
    "collapsed": true
   },
   "outputs": [],
   "source": []
  }
 ],
 "metadata": {
  "kernelspec": {
   "display_name": "Python 3",
   "language": "python",
   "name": "python3"
  },
  "language_info": {
   "codemirror_mode": {
    "name": "ipython",
    "version": 3
   },
   "file_extension": ".py",
   "mimetype": "text/x-python",
   "name": "python",
   "nbconvert_exporter": "python",
   "pygments_lexer": "ipython3",
   "version": "3.6.4"
  }
 },
 "nbformat": 4,
 "nbformat_minor": 2
}
