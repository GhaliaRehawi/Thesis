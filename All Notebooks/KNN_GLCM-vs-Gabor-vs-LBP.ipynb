{
 "cells": [
  {
   "cell_type": "code",
   "execution_count": 1,
   "metadata": {
    "collapsed": true
   },
   "outputs": [],
   "source": [
    "import os\n",
    "from fnmatch import fnmatch\n",
    "from trainData_featExt_glcm import trainData_featExt_glcm\n",
    "from trainData_featExt_gabor import trainData_featExt_gabor\n",
    "import numpy as np\n",
    "from PIL import Image\n",
    "from filtering.filters import Median\n",
    "from feature_extraction.glcm import Glcm\n",
    "from feature_extraction.gabor import Gabor\n",
    "import sklearn\n",
    "import time\n",
    "from gmm import Gmm\n",
    "from sklearn import preprocessing\n",
    "import pickle"
   ]
  },
  {
   "cell_type": "code",
   "execution_count": null,
   "metadata": {
    "collapsed": true
   },
   "outputs": [],
   "source": [
    "test_samples_feats_matrix_Gabor = np.load(\"test_samples_feats_matrix_Gabor.npy\")\n",
    "test_samples_feats_matrix_GLCM = np.load(\"test_samples_feats_matrix_GLCM.npy\")\n",
    "test_samples_feats_matrix_LBP = np.load(\"test_samples_feats_matrix_LBP.npy\")\n"
   ]
  },
  {
   "cell_type": "code",
   "execution_count": 2,
   "metadata": {
    "collapsed": true
   },
   "outputs": [],
   "source": [
    "valid_samples_feats_matrix_Gabor = np.load(\"valid_samples_feats_matrix_Gabor.npy\")\n",
    "valid_samples_feats_matrix_GLCM = np.load(\"valid_samples_feats_matrix_GLCM.npy\")\n",
    "valid_samples_feats_matrix_LBP = np.load(\"valid_samples_feats_matrix_LBP.npy\")"
   ]
  },
  {
   "cell_type": "code",
   "execution_count": 3,
   "metadata": {
    "collapsed": true
   },
   "outputs": [],
   "source": [
    "train_samples_feats_matrix_Gabor = np.load(\"train_samples_feats_matrix_Gabor.npy\")\n",
    "train_samples_feats_matrix_GLCM = np.load(\"train_samples_feats_matrix_GLCM.npy\")\n",
    "train_samples_feats_matrix_LBP = np.load(\"train_samples_feats_matrix_LBP.npy\")"
   ]
  },
  {
   "cell_type": "code",
   "execution_count": 4,
   "metadata": {
    "collapsed": true
   },
   "outputs": [],
   "source": [
    "knn_model_Gabor = pickle.load( open( \"KNN_Gabor_50\", \"rb\" ))"
   ]
  },
  {
   "cell_type": "code",
   "execution_count": 5,
   "metadata": {
    "collapsed": true
   },
   "outputs": [],
   "source": [
    "knn_model_LBP = pickle.load( open( \"KNN_LBP_500\", \"rb\" ))"
   ]
  },
  {
   "cell_type": "code",
   "execution_count": 6,
   "metadata": {
    "collapsed": true
   },
   "outputs": [],
   "source": [
    "knn_model_GLCM = pickle.load( open( \"KNN_GLCM_10\", \"rb\" ))"
   ]
  },
  {
   "cell_type": "code",
   "execution_count": 7,
   "metadata": {
    "collapsed": true
   },
   "outputs": [],
   "source": [
    "#Ground truth\n",
    "y1 = np.repeat(0, 6000) #normal\n",
    "y2 = np.repeat(1, 4000) #abnormal\n",
    "y = np.concatenate((y1,y2))"
   ]
  },
  {
   "cell_type": "code",
   "execution_count": 11,
   "metadata": {
    "collapsed": true
   },
   "outputs": [],
   "source": [
    "kth_dist2_Gabor, kth_ind2_Gabor = knn_model_Gabor.kneighbors(valid_samples_feats_matrix_Gabor)\n",
    "kth_nearest_dist2_Gabor = kth_dist2_Gabor[:,-1]\n",
    "kth_dist2_LBP, kth_ind2_Gabor = knn_model_LBP.kneighbors(valid_samples_feats_matrix_LBP)\n",
    "kth_nearest_dist2_LBP = kth_dist2_LBP[:,-1]\n",
    "kth_dist2_GLCM, kth_ind2_Gabor = knn_model_GLCM.kneighbors(valid_samples_feats_matrix_GLCM)\n",
    "kth_nearest_dist2_GLCM = kth_dist2_GLCM[:,-1]"
   ]
  },
  {
   "cell_type": "code",
   "execution_count": 12,
   "metadata": {},
   "outputs": [
    {
     "data": {
      "image/png": "[encoded data removed]",
      "text/plain": [
       "<matplotlib.figure.Figure at 0x7f85ad150210>"
      ]
     },
     "metadata": {},
     "output_type": "display_data"
    }
   ],
   "source": [
    "import matplotlib.pyplot as pl\n",
    "import matplotlib\n",
    "from skimage import io\n",
    "\n",
    "\n",
    "Gabor_fpr,Gabor_tpr,Gabor_thresh = sklearn.metrics.roc_curve(y,kth_nearest_dist2_Gabor)\n",
    "GLCM_fpr,GLCM_tpr,GLCM_thresh = sklearn.metrics.roc_curve(y,kth_nearest_dist2_GLCM)\n",
    "LBP_fpr,LBP_tpr,LBP_thresh = sklearn.metrics.roc_curve(y,kth_nearest_dist2_LBP)\n",
    "\n",
    "f,ax = pl.subplots(1,1)\n",
    "ax.plot(Gabor_fpr,Gabor_tpr,label=\"KNN-Gabor\")\n",
    "ax.plot(GLCM_fpr,GLCM_tpr,label=\"KNN-GLCM\")\n",
    "ax.plot(LBP_fpr,LBP_tpr,label=\"KNN-LBP\")\n",
    "\n",
    "ax.set_xlabel(\"False Positive Rate\")\n",
    "ax.set_ylabel(\"True Positive Rate\")\n",
    "ax.set_title(\"ROC curves\")\n",
    "ax.legend(loc=\"lower right\")\n",
    "\n",
    "io.show()"
   ]
  },
  {
   "cell_type": "code",
   "execution_count": 13,
   "metadata": {
    "collapsed": true
   },
   "outputs": [],
   "source": [
    "f.savefig('KNN_GLCM-vs-Gabor-vs-LBP_valid.png')"
   ]
  },
  {
   "cell_type": "code",
   "execution_count": null,
   "metadata": {
    "collapsed": true
   },
   "outputs": [],
   "source": []
  }
 ],
 "metadata": {
  "kernelspec": {
   "display_name": "Python 2",
   "language": "python",
   "name": "python2"
  },
  "language_info": {
   "codemirror_mode": {
    "name": "ipython",
    "version": 2
   },
   "file_extension": ".py",
   "mimetype": "text/x-python",
   "name": "python",
   "nbconvert_exporter": "python",
   "pygments_lexer": "ipython2",
   "version": "2.7.13"
  }
 },
 "nbformat": 4,
 "nbformat_minor": 2
}
