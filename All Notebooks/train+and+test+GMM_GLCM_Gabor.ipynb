{
 "cells": [
  {
   "cell_type": "code",
   "execution_count": null,
   "metadata": {
    "collapsed": true
   },
   "outputs": [],
   "source": [
    "import os\n",
    "from fnmatch import fnmatch\n",
    "import numpy as np\n",
    "from PIL import Image\n",
    "from filtering.filters import Median\n",
    "from feature_extraction.glcm import Glcm\n",
    "import sklearn\n",
    "import time\n",
    "from gmm import Gmm\n",
    "import pickle\n",
    "from sklearn import preprocessing"
   ]
  },
  {
   "cell_type": "code",
   "execution_count": null,
   "metadata": {
    "collapsed": true
   },
   "outputs": [],
   "source": [
    "#Read features of training samples\n",
    "train_samples_feats_matrix_GLCM = np.load(\"train_samples_feats_matrix_GLCM.npy\")\n",
    "train_samples_feats_matrix_Gabor = np.load(\"train_samples_feats_matrix_Gabor.npy\")"
   ]
  },
  {
   "cell_type": "code",
   "execution_count": null,
   "metadata": {
    "collapsed": true
   },
   "outputs": [],
   "source": [
    "#Load features of validation samples\n",
    "valid_samples_feats_matrix_GLCM = np.load(\"valid_samples_feats_matrix_GLCM.npy\")\n",
    "valid_samples_feats_matrix_Gabor = np.load(\"valid_samples_feats_matrix_Gabor.npy\")"
   ]
  },
  {
   "cell_type": "code",
   "execution_count": null,
   "metadata": {
    "collapsed": true
   },
   "outputs": [],
   "source": [
    "#concatenating features \n",
    "train_samples_feats_matrix_glcm_gabor = np.concatenate((train_samples_feats_matrix_GLCM,train_samples_feats_matrix_Gabor), axis=1)\n",
    "valid_samples_feats_matrix_glcm_gabor = np.concatenate((valid_samples_feats_matrix_GLCM,valid_samples_feats_matrix_Gabor), axis=1)"
   ]
  },
  {
   "cell_type": "code",
   "execution_count": null,
   "metadata": {
    "collapsed": true
   },
   "outputs": [],
   "source": [
    "#Load and concatenate features of test samples\n",
    "test_samples_feats_matrix_GLCM = np.load(\"test_samples_feats_matrix_GLCM.npy\")\n",
    "test_samples_feats_matrix_Gabor = np.load(\"test_samples_feats_matrix_Gabor.npy\")\n",
    "test_samples_feats_matrix_glcm_gabor = np.concatenate((test_samples_feats_matrix_GLCM,test_samples_feats_matrix_Gabor), axis=1)"
   ]
  },
  {
   "cell_type": "code",
   "execution_count": null,
   "metadata": {
    "collapsed": true
   },
   "outputs": [],
   "source": [
    "gm_model = pickle.load( open( \"GMM_['GLCM', 'Gabor']_1000\", \"rb\" ))"
   ]
  },
  {
   "cell_type": "code",
   "execution_count": null,
   "metadata": {
    "collapsed": true
   },
   "outputs": [],
   "source": [
    "#Best threshold for test data 258.679059501\n",
    "#Predict labels of the new data points\n",
    "y_predict = gm_model.predict(test_samples_feats_matrix_glcm_gabor)\n",
    "#Predict novelty score of new data points\n",
    "y_predict_score = gm_model.score_samples(test_samples_feats_matrix_glcm_gabor)\n",
    "tmp = []\n",
    "\n",
    "x_predict_score = gm_model.score_samples(train_samples_feats_matrix_glcm_gabor)\n",
    "novelty_thresh = np.amin(x_predict_score)\n",
    "\n",
    "#If data point belongs to the model then 1 else 0\n",
    "tmp = np.repeat(1, 10000)\n",
    "tmp[y_predict_score < novelty_thresh] = 0"
   ]
  },
  {
   "cell_type": "code",
   "execution_count": null,
   "metadata": {
    "collapsed": true
   },
   "outputs": [],
   "source": [
    "#Ground truth\n",
    "y1 = np.repeat(1, 6000) #normal\n",
    "y2 = np.repeat(0, 4000) #abnormal\n",
    "y = np.concatenate((y1,y2))"
   ]
  },
  {
   "cell_type": "code",
   "execution_count": null,
   "metadata": {},
   "outputs": [],
   "source": [
    "f1_binary = sklearn.metrics.f1_score(y, tmp, pos_label = 0, average = 'binary')\n",
    "f1_macro = sklearn.metrics.f1_score(y, tmp, average = 'macro')\n",
    "auc = sklearn.metrics.roc_auc_score(y, y_predict_score)\n",
    "Math_Cof = sklearn.metrics.matthews_corrcoef(y, tmp) \n",
    "tn, fp, fn, tp  = sklearn.metrics.confusion_matrix(y, tmp).ravel()\n",
    "print (\"f1_binary: \", f1_binary, \"f1_macro: \", f1_macro, \"MAth_cof: \", Math_Cof , \" auc: \", auc)"
   ]
  },
  {
   "cell_type": "code",
   "execution_count": null,
   "metadata": {
    "collapsed": true
   },
   "outputs": [],
   "source": [
    "#Get different thresholds value from ROC with corresponding F1_score and AUC\n",
    "fpr,tpr,thresh = sklearn.metrics.roc_curve(y, y_predict_score)\n",
    "for t, thres in enumerate (thresh) :\n",
    "    tmp = np.repeat(0,10000)\n",
    "    tmp[y_predict_score >= thres] = 1\n",
    "    f1 = sklearn.metrics.f1_score(y, tmp, pos_label=0, average = 'binary')\n",
    "    print (\"f1: \", f1, \"thres: \", thres)"
   ]
  },
  {
   "cell_type": "code",
   "execution_count": null,
   "metadata": {},
   "outputs": [],
   "source": [
    "import matplotlib.pyplot as pl\n",
    "import matplotlib\n",
    "from skimage import io\n",
    "\n",
    "fpr,tpr,thresh = sklearn.metrics.roc_curve(y,y_predict_score)\n",
    "\n",
    "f,ax = pl.subplots(1,1)\n",
    "ax.plot(fpr,tpr,label=\"GMM\")\n",
    "ax.set_xlabel(\"False Positive Rate\")\n",
    "ax.set_ylabel(\"True Positive Rate\")\n",
    "ax.set_title(\"ROC curves\")\n",
    "ax.legend(loc=\"lower right\")\n",
    "\n",
    "io.show()"
   ]
  },
  {
   "cell_type": "code",
   "execution_count": null,
   "metadata": {
    "collapsed": true
   },
   "outputs": [],
   "source": [
    "f.savefig('GMM_GLCM_Gabor_1000.png')"
   ]
  },
  {
   "cell_type": "code",
   "execution_count": null,
   "metadata": {
    "collapsed": true
   },
   "outputs": [],
   "source": []
  }
 ],
 "metadata": {
  "kernelspec": {
   "display_name": "Python 2",
   "language": "python",
   "name": "python2"
  },
  "language_info": {
   "codemirror_mode": {
    "name": "ipython",
    "version": 2
   },
   "file_extension": ".py",
   "mimetype": "text/x-python",
   "name": "python",
   "nbconvert_exporter": "python",
   "pygments_lexer": "ipython2",
   "version": "2.7.13"
  }
 },
 "nbformat": 4,
 "nbformat_minor": 2
}
