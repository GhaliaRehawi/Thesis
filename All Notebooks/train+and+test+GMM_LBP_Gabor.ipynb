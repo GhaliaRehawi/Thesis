{
 "cells": [
  {
   "cell_type": "code",
   "execution_count": 1,
   "metadata": {
    "collapsed": true
   },
   "outputs": [],
   "source": [
    "import os\n",
    "from fnmatch import fnmatch\n",
    "from trainData_featExt_glcm import trainData_featExt_glcm\n",
    "from trainData_featExt_gabor import trainData_featExt_gabor\n",
    "import numpy as np\n",
    "from PIL import Image\n",
    "from filtering.filters import Median\n",
    "from feature_extraction.glcm import Glcm\n",
    "from feature_extraction.gabor import Gabor\n",
    "import sklearn\n",
    "import time\n",
    "from gmm import Gmm\n",
    "from sklearn import preprocessing\n",
    "import pickle"
   ]
  },
  {
   "cell_type": "code",
   "execution_count": 2,
   "metadata": {
    "collapsed": true
   },
   "outputs": [],
   "source": [
    "#Read features of training samples Gabor (30000x32)\n",
    "train_samples_feats_matrix_gabor = np.load(\"train_samples_feats_matrix_Gabor.npy\")"
   ]
  },
  {
   "cell_type": "code",
   "execution_count": 3,
   "metadata": {
    "collapsed": true,
    "scrolled": true
   },
   "outputs": [],
   "source": [
    "#Read features of training samples LBP (30000x26)\n",
    "train_samples_feats_matrix_LBP = np.load(\"train_samples_feats_matrix_LBP.npy\")"
   ]
  },
  {
   "cell_type": "code",
   "execution_count": 4,
   "metadata": {
    "collapsed": true
   },
   "outputs": [],
   "source": [
    "#Load features of validation samples Gabor (10000x32)\n",
    "valid_samples_feats_matrix_gabor = np.load(\"valid_samples_feats_matrix_Gabor.npy\")"
   ]
  },
  {
   "cell_type": "code",
   "execution_count": 5,
   "metadata": {
    "collapsed": true
   },
   "outputs": [],
   "source": [
    "#Load features of validation samples LBP (10000x26)\n",
    "valid_samples_feats_matrix_LBP = np.load(\"valid_samples_feats_matrix_LBP.npy\")"
   ]
  },
  {
   "cell_type": "code",
   "execution_count": 6,
   "metadata": {
    "collapsed": true
   },
   "outputs": [],
   "source": [
    "#concatenating features \n",
    "train_samples_feats_matrix_gabor_LBP = np.concatenate((train_samples_feats_matrix_gabor,train_samples_feats_matrix_LBP), axis=1)\n",
    "valid_samples_feats_matrix_gabor_LBP = np.concatenate((valid_samples_feats_matrix_gabor,valid_samples_feats_matrix_LBP), axis=1)"
   ]
  },
  {
   "cell_type": "code",
   "execution_count": null,
   "metadata": {
    "collapsed": true
   },
   "outputs": [],
   "source": [
    "#Train a gaussian mixture model from training data\n",
    "t0 = time.time()\n",
    "gm_model = sklearn.mixture.GaussianMixture(n_components=10, covariance_type='spherical')\n",
    "gm_model.fit(train_samples_feats_matrix_gabor_LBP)\n",
    "print(\"traing time: \", time.time() - t0)"
   ]
  },
  {
   "cell_type": "code",
   "execution_count": 7,
   "metadata": {
    "collapsed": true
   },
   "outputs": [],
   "source": [
    "gm_model = pickle.load( open( \"GMM_['Gabor', 'LBP']_1000\", \"rb\" ))"
   ]
  },
  {
   "cell_type": "code",
   "execution_count": 8,
   "metadata": {
    "collapsed": true
   },
   "outputs": [],
   "source": [
    "#Predict labels of the new data points\n",
    "y_predict = gm_model.predict(valid_samples_feats_matrix_gabor_LBP)\n",
    "#Predict novelty score of new data points\n",
    "y_predict_score = gm_model.score_samples(valid_samples_feats_matrix_gabor_LBP)\n",
    "tmp = []\n",
    "\n",
    "x_predict_score = gm_model.score_samples(train_samples_feats_matrix_gabor_LBP)\n",
    "novelty_thresh = np.amin(x_predict_score)\n",
    "\n",
    "#If data point belongs to the model then 1 else 0\n",
    "tmp = np.repeat(1, 10000)\n",
    "tmp[y_predict_score < novelty_thresh] = 0"
   ]
  },
  {
   "cell_type": "code",
   "execution_count": 9,
   "metadata": {
    "collapsed": true
   },
   "outputs": [],
   "source": [
    "#Ground truth\n",
    "y1 = np.repeat(1, 6000) #normal\n",
    "y2 = np.repeat(0, 4000) #abnormal\n",
    "y = np.concatenate((y1,y2))"
   ]
  },
  {
   "cell_type": "code",
   "execution_count": null,
   "metadata": {
    "collapsed": true
   },
   "outputs": [],
   "source": [
    "fpr,tpr,thresh = sklearn.metrics.roc_curve(y, y_predict_score)\n",
    "for t, thres in enumerate (thresh) :\n",
    "    tmp[y_predict_score < thres] = 1\n",
    "    f1 = sklearn.metrics.f1_score(y, tmp, average = 'binary')\n",
    "    auc = sklearn.metrics.roc_auc_score(y, y_predict_score)\n",
    "    print (\"f1: \", f1, \" auc: \", auc, \"thres: \", thres)"
   ]
  },
  {
   "cell_type": "code",
   "execution_count": 10,
   "metadata": {},
   "outputs": [
    {
     "name": "stdout",
     "output_type": "stream",
     "text": [
      "('f1_binary: ', 0.71688942891859053, 'f1_macro: ', 0.75946425566575226, 'MAth_cof: ', 0.51977684658812384, ' auc: ', 0.82435383333333334)\n",
      "('confusion matrix', 2950, 1050, 1280, 4720)\n"
     ]
    }
   ],
   "source": [
    "f1_binary = sklearn.metrics.f1_score(y, tmp, pos_label =0, average = 'binary')\n",
    "f1_macro = sklearn.metrics.f1_score(y, tmp, average = 'macro')\n",
    "auc = sklearn.metrics.roc_auc_score(y, y_predict_score)\n",
    "Math_Cof = sklearn.metrics.matthews_corrcoef(y, tmp) \n",
    "tn, fp, fn, tp  = sklearn.metrics.confusion_matrix(y, tmp).ravel()\n",
    "print (\"f1_binary: \", f1_binary, \"f1_macro: \", f1_macro, \"MAth_cof: \", Math_Cof , \" auc: \", auc)\n",
    "print(\"confusion matrix\", tn, fp, fn, tp)"
   ]
  },
  {
   "cell_type": "code",
   "execution_count": 12,
   "metadata": {},
   "outputs": [
    {
     "data": {
      "image/png": "[encoded data removed]",
      "text/plain": [
       "<matplotlib.figure.Figure at 0x7ff348eb9910>"
      ]
     },
     "metadata": {},
     "output_type": "display_data"
    }
   ],
   "source": [
    "import matplotlib.pyplot as pl\n",
    "import matplotlib\n",
    "from skimage import io\n",
    "\n",
    "fpr,tpr,thresh = sklearn.metrics.roc_curve(y, y_predict_score)\n",
    "\n",
    "f,ax = pl.subplots(1,1)\n",
    "ax.plot(fpr,tpr,label=\"GMM\")\n",
    "ax.set_xlabel(\"False Positive Rate\")\n",
    "ax.set_ylabel(\"True Positive Rate\")\n",
    "ax.set_title(\"ROC curves\")\n",
    "ax.legend(loc=\"lower right\")\n",
    "# these are matplotlib.patch.Patch properties\n",
    "props = dict(boxstyle='square', facecolor='white', alpha=0.5)\n",
    "\n",
    "textstr = '$F1-binary=%.2f$\\n$F1-macro=%.2f$\\n$math-corcoeffient=%.2f$\\n$AUC=%.2f$'%(0.71, 0.76, 0.52, 0.82)\n",
    "# place a text box in upper left in axes coords\n",
    "ax.text(0.95, 0.2, textstr, transform=ax.transAxes, fontsize=14,\n",
    "    horizontalalignment='right', verticalalignment='bottom', bbox=props)\n",
    "\n",
    "io.show()"
   ]
  },
  {
   "cell_type": "code",
   "execution_count": 13,
   "metadata": {
    "collapsed": true
   },
   "outputs": [],
   "source": [
    "f.savefig('GMM_Gabor_LBP_1000.png')"
   ]
  },
  {
   "cell_type": "code",
   "execution_count": null,
   "metadata": {
    "collapsed": true
   },
   "outputs": [],
   "source": []
  }
 ],
 "metadata": {
  "kernelspec": {
   "display_name": "Python 2",
   "language": "python",
   "name": "python2"
  },
  "language_info": {
   "codemirror_mode": {
    "name": "ipython",
    "version": 2
   },
   "file_extension": ".py",
   "mimetype": "text/x-python",
   "name": "python",
   "nbconvert_exporter": "python",
   "pygments_lexer": "ipython2",
   "version": "2.7.13"
  }
 },
 "nbformat": 4,
 "nbformat_minor": 2
}
