{
 "cells": [
  {
   "cell_type": "code",
   "execution_count": 1,
   "metadata": {
    "collapsed": true
   },
   "outputs": [],
   "source": [
    "import os\n",
    "from fnmatch import fnmatch\n",
    "from trainData_featExt_glcm import trainData_featExt_glcm\n",
    "from trainData_featExt_gabor import trainData_featExt_gabor\n",
    "import numpy as np\n",
    "from PIL import Image\n",
    "from filtering.filters import Median\n",
    "from feature_extraction.lbp import Lbp\n",
    "from sklearn.neighbors import NearestNeighbors\n",
    "import sklearn\n",
    "import time\n",
    "from sklearn.metrics.pairwise import euclidean_distances\n",
    "from sklearn.preprocessing import normalize\n",
    "from sklearn import preprocessing\n",
    "import pickle"
   ]
  },
  {
   "cell_type": "code",
   "execution_count": null,
   "metadata": {
    "collapsed": true
   },
   "outputs": [],
   "source": [
    "#load training samples feature vector\n",
    "train_samples_feats_matrix_glcm = np.load(\"train_samples_feats_matrix_GLCM.npy\")"
   ]
  },
  {
   "cell_type": "code",
   "execution_count": null,
   "metadata": {
    "collapsed": true
   },
   "outputs": [],
   "source": [
    "#load validation samples feature vector\n",
    "valid_samples_feats_matrix_glcm = np.load(\"valid_samples_feats_matrix_GLCM.npy\")"
   ]
  },
  {
   "cell_type": "code",
   "execution_count": 2,
   "metadata": {
    "collapsed": true
   },
   "outputs": [],
   "source": [
    "test_samples_feats_matrix_glcm = np.load(\"test_samples_feats_matrix_GLCM.npy\")"
   ]
  },
  {
   "cell_type": "code",
   "execution_count": null,
   "metadata": {
    "collapsed": true
   },
   "outputs": [],
   "source": [
    "#Train a KNN model using training data\n",
    "t0 = time.time()\n",
    "knn_model = NearestNeighbors(100, algorithm = 'kd_tree', metric ='euclidean')\n",
    "knn_model.fit(train_samples_feats_matrix_glcm) \n",
    "print(\"traing time: \", time.time() - t0)"
   ]
  },
  {
   "cell_type": "code",
   "execution_count": 3,
   "metadata": {
    "collapsed": true
   },
   "outputs": [],
   "source": [
    "knn_model = pickle.load( open( \"KNN_GLCM_10\", \"rb\" ))"
   ]
  },
  {
   "cell_type": "code",
   "execution_count": null,
   "metadata": {
    "collapsed": true
   },
   "outputs": [],
   "source": [
    "#find k nearest points for each sample\n",
    "kth_dist, kth_ind = knn_model.kneighbors(train_samples_feats_matrix_glcm)\n",
    "#1-D array contains distances of each data point to its kth nearest point \n",
    "kth_nearest_dist = kth_dist[:,-1]"
   ]
  },
  {
   "cell_type": "code",
   "execution_count": 4,
   "metadata": {
    "collapsed": true
   },
   "outputs": [],
   "source": [
    "#find k nearest points for each valid sample\n",
    "kth_dist2, kth_ind2 = knn_model.kneighbors(test_samples_feats_matrix_glcm)\n",
    "#1-D array contains distances of each data point to its kth nearest point\n",
    "kth_nearest_dist2 = kth_dist2[:,-1]\n",
    "labels = np.repeat(0,10000)\n",
    "#each validation data point whose distance to its kth nearest exceeds the \n",
    "#threshold, which is np.amax(kth_nearest_dist) is novel (1)\n",
    "labels[kth_nearest_dist2 > 0.0227484144811] = 1"
   ]
  },
  {
   "cell_type": "code",
   "execution_count": 5,
   "metadata": {
    "collapsed": true
   },
   "outputs": [],
   "source": [
    "#Ground truth\n",
    "y1 = np.repeat(0, 6000) #normal\n",
    "y2 = np.repeat(1, 4000) #abnormal\n",
    "y = np.concatenate((y1,y2))"
   ]
  },
  {
   "cell_type": "code",
   "execution_count": 6,
   "metadata": {},
   "outputs": [
    {
     "name": "stdout",
     "output_type": "stream",
     "text": [
      "('f1_binary: ', 0.56997906265099052, 'f1_macro: ', 0.4328397027842133, 'MAth_cof: ', 0.096097001875441207, ' auc: ', 0.56203404166666671)\n",
      "('confusion matrix', 1121, 4879, 461, 3539)\n"
     ]
    }
   ],
   "source": [
    "f1_binary = sklearn.metrics.f1_score(y, labels, average = 'binary')\n",
    "f1_macro = sklearn.metrics.f1_score(y, labels, average = 'macro')\n",
    "auc = sklearn.metrics.roc_auc_score(y, kth_nearest_dist2)\n",
    "Math_Cof = sklearn.metrics.matthews_corrcoef(y, labels) \n",
    "tn, fp, fn, tp  = sklearn.metrics.confusion_matrix(y, labels).ravel()\n",
    "print (\"f1_binary: \", f1_binary, \"f1_macro: \", f1_macro, \"MAth_cof: \", Math_Cof , \" auc: \", auc)\n",
    "print(\"confusion matrix\", tn, fp, fn, tp)"
   ]
  },
  {
   "cell_type": "code",
   "execution_count": null,
   "metadata": {
    "collapsed": true
   },
   "outputs": [],
   "source": [
    "#Get different thresholds value from ROC with corresponding F1_score and AUC\n",
    "fpr,tpr,thresh = sklearn.metrics.roc_curve(y, kth_nearest_dist2)\n",
    "for t, thres in enumerate (thresh) :\n",
    "    labels = np.repeat(0,10000)\n",
    "    labels[kth_nearest_dist2 > thres] = 1\n",
    "    f1 = sklearn.metrics.f1_score(y, labels, average = 'binary')\n",
    "    print (\"f1: \", f1, \"thres: \", thres)"
   ]
  },
  {
   "cell_type": "code",
   "execution_count": null,
   "metadata": {},
   "outputs": [],
   "source": [
    "import matplotlib.pyplot as pl\n",
    "import matplotlib\n",
    "from skimage import io\n",
    "\n",
    "fpr,tpr,thresh = sklearn.metrics.roc_curve(y,kth_nearest_dist2)\n",
    "\n",
    "f,ax = pl.subplots(1,1)\n",
    "ax.plot(fpr,tpr,label=\"KNN\")\n",
    "ax.set_xlabel(\"False Positive Rate\")\n",
    "ax.set_ylabel(\"True Positive Rate\")\n",
    "ax.set_title(\"ROC curves\")\n",
    "ax.legend(loc=\"lower right\")\n",
    "# these are matplotlib.patch.Patch properties\n",
    "props = dict(boxstyle='square', facecolor='white', alpha=0.5)\n",
    "\n",
    "textstr = '$F1-binary=%.2f$\\n$F1-macro=%.2f$\\n$math-corcoeffient=%.2f$\\n$AUC=%.2f$'%(0.62, 0.63, 0.3, 0.72)\n",
    "# place a text box in upper left in axes coords\n",
    "ax.text(0.95, 0.2, textstr, transform=ax.transAxes, fontsize=13,\n",
    "    horizontalalignment='right', verticalalignment='bottom', bbox=props)\n",
    "\n",
    "io.show()"
   ]
  },
  {
   "cell_type": "code",
   "execution_count": null,
   "metadata": {
    "collapsed": true
   },
   "outputs": [],
   "source": [
    "f.savefig('KNN_GLCM_10.png')"
   ]
  },
  {
   "cell_type": "code",
   "execution_count": null,
   "metadata": {
    "collapsed": true
   },
   "outputs": [],
   "source": []
  }
 ],
 "metadata": {
  "kernelspec": {
   "display_name": "Python 2",
   "language": "python",
   "name": "python2"
  },
  "language_info": {
   "codemirror_mode": {
    "name": "ipython",
    "version": 2
   },
   "file_extension": ".py",
   "mimetype": "text/x-python",
   "name": "python",
   "nbconvert_exporter": "python",
   "pygments_lexer": "ipython2",
   "version": "2.7.13"
  }
 },
 "nbformat": 4,
 "nbformat_minor": 2
}
