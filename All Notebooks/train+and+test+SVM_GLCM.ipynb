{
 "cells": [
  {
   "cell_type": "code",
   "execution_count": 1,
   "metadata": {
    "collapsed": true
   },
   "outputs": [],
   "source": [
    "import os\n",
    "from fnmatch import fnmatch\n",
    "from trainData_featExt_glcm import trainData_featExt_glcm\n",
    "import numpy as np\n",
    "from PIL import Image\n",
    "from filtering.filters import Median\n",
    "from feature_extraction.glcm import Glcm\n",
    "from feature_extraction.gabor import Gabor\n",
    "from sklearn import svm\n",
    "import sklearn\n",
    "import time\n",
    "from sklearn import preprocessing\n",
    "import pickle"
   ]
  },
  {
   "cell_type": "code",
   "execution_count": null,
   "metadata": {
    "collapsed": true
   },
   "outputs": [],
   "source": [
    "#Read features of training samples\n",
    "train_samples_feats_matrix_GLCM = np.load(\"train_samples_feats_matrix_GLCM.npy\")"
   ]
  },
  {
   "cell_type": "code",
   "execution_count": null,
   "metadata": {
    "collapsed": true
   },
   "outputs": [],
   "source": [
    "#Load features of validation samples\n",
    "valid_samples_feats_matrix_GLCM = np.load(\"valid_samples_feats_matrix_GLCM.npy\")"
   ]
  },
  {
   "cell_type": "code",
   "execution_count": 2,
   "metadata": {
    "collapsed": true
   },
   "outputs": [],
   "source": [
    "test_samples_feats_matrix_GLCM = np.load(\"test_samples_feats_matrix_GLCM.npy\")"
   ]
  },
  {
   "cell_type": "code",
   "execution_count": 8,
   "metadata": {},
   "outputs": [
    {
     "name": "stdout",
     "output_type": "stream",
     "text": [
      "[[  8.93458933e-02   2.35035211e-01   1.94728241e-01 ...,   2.36283131e-05\n",
      "    2.07620139e-05   2.49394241e-05]\n",
      " [  1.56913962e-01   2.32400757e-01   1.52913882e-01 ...,   4.00539066e-05\n",
      "    4.25214508e-05   3.94451985e-05]\n",
      " [  1.40374228e-01   1.98424296e-01   1.49077918e-01 ...,   4.91008804e-05\n",
      "    4.00991173e-05   4.09880328e-05]\n",
      " ..., \n",
      " [  1.11267827e-01   1.46887882e-01   1.24380977e-01 ...,   3.52089612e-05\n",
      "    3.10692812e-05   3.35108581e-05]\n",
      " [  1.42270071e-01   2.31652246e-01   1.73836788e-01 ...,   3.42573591e-04\n",
      "    3.40316535e-04   3.65707206e-04]\n",
      " [  1.79629374e-01   2.42687798e-01   1.61647567e-01 ...,   4.16565901e-04\n",
      "    4.14679822e-04   4.22613345e-04]]\n"
     ]
    }
   ],
   "source": [
    "print test_samples_feats_matrix_GLCM"
   ]
  },
  {
   "cell_type": "code",
   "execution_count": null,
   "metadata": {
    "collapsed": true
   },
   "outputs": [],
   "source": [
    "#Train svn model from training data\n",
    "t0 = time.time()\n",
    "svm_model = svm.OneClassSVM(kernel='rbf', gamma=0.1, nu=0.1)\n",
    "svm_model.fit(train_samples_feats_matrix_GLCM)\n",
    "print(\"traing time: \", time.time() - t0)"
   ]
  },
  {
   "cell_type": "code",
   "execution_count": 3,
   "metadata": {
    "collapsed": true
   },
   "outputs": [],
   "source": [
    "svm_model = pickle.load( open( \"SVM_GLCM_[0.2, 0.01]\", \"rb\" ))"
   ]
  },
  {
   "cell_type": "code",
   "execution_count": 4,
   "metadata": {
    "collapsed": true
   },
   "outputs": [],
   "source": [
    "#Ground truth\n",
    "y1 = np.repeat(+1, 6000) #normal\n",
    "y2 = np.repeat(-1, 4000) #abnormal\n",
    "y = np.concatenate((y1,y2))"
   ]
  },
  {
   "cell_type": "code",
   "execution_count": null,
   "metadata": {},
   "outputs": [],
   "source": [
    "#Predict labels of training dataset\n",
    "y_predict_train = svm_model.predict(train_samples_feats_matrix_GLCM)\n",
    "print (\"training errors\", y_predict_train[y_predict_train == -1].size)"
   ]
  },
  {
   "cell_type": "code",
   "execution_count": 5,
   "metadata": {},
   "outputs": [
    {
     "name": "stdout",
     "output_type": "stream",
     "text": [
      "('number of samples detected as outliers', 5411)\n",
      "('detected as normal', 4589)\n"
     ]
    }
   ],
   "source": [
    "#Predict labels of new data points\n",
    "y_predict = svm_model.predict(test_samples_feats_matrix_GLCM)\n",
    "print (\"number of samples detected as outliers\", y_predict[y_predict == -1].size)\n",
    "print (\"detected as normal\", y_predict[y_predict == +1].size)"
   ]
  },
  {
   "cell_type": "code",
   "execution_count": 6,
   "metadata": {
    "collapsed": true
   },
   "outputs": [],
   "source": [
    "y_predict_score = svm_model.decision_function(test_samples_feats_matrix_GLCM)"
   ]
  },
  {
   "cell_type": "code",
   "execution_count": null,
   "metadata": {},
   "outputs": [],
   "source": [
    "print y_predict_score"
   ]
  },
  {
   "cell_type": "code",
   "execution_count": 7,
   "metadata": {},
   "outputs": [
    {
     "name": "stdout",
     "output_type": "stream",
     "text": [
      "('f1_binary: ', 0.47370098820529172, 'f1_macro: ', 0.50297571839200272, 'MAth_cof: ', 0.026462392168469483, ' auc: ', 0.52542170833333335)\n",
      "('confusion matrix', 2229, 1771, 3182, 2818)\n"
     ]
    }
   ],
   "source": [
    "f1_binary = sklearn.metrics.f1_score(y, y_predict, pos_label =-1, average = 'binary')\n",
    "f1_macro = sklearn.metrics.f1_score(y, y_predict, average = 'macro')\n",
    "auc = sklearn.metrics.roc_auc_score(y, y_predict_score)\n",
    "Math_Cof = sklearn.metrics.matthews_corrcoef(y, y_predict) \n",
    "tn, fp, fn, tp  = sklearn.metrics.confusion_matrix(y, y_predict).ravel()\n",
    "print (\"f1_binary: \", f1_binary, \"f1_macro: \", f1_macro, \"MAth_cof: \", Math_Cof , \" auc: \", auc)\n",
    "print(\"confusion matrix\", tn, fp, fn, tp)"
   ]
  },
  {
   "cell_type": "code",
   "execution_count": null,
   "metadata": {},
   "outputs": [],
   "source": [
    "import matplotlib.pyplot as pl\n",
    "import matplotlib\n",
    "from skimage import io\n",
    "\n",
    "fpr,tpr,thresh = sklearn.metrics.roc_curve(y,y_predict_score)\n",
    "\n",
    "f,ax = pl.subplots(1,1)\n",
    "ax.plot(fpr,tpr,label=\"SVM\")\n",
    "ax.set_xlabel(\"False Positive Rate\")\n",
    "ax.set_ylabel(\"True Positive Rate\")\n",
    "ax.set_title(\"ROC curves\")\n",
    "ax.legend(loc=\"lower right\")\n",
    "# these are matplotlib.patch.Patch properties\n",
    "props = dict(boxstyle='square', facecolor='white', alpha=0.5)\n",
    "\n",
    "textstr = '$F1-binary=%.2f$\\n$F1-macro=%.2f$\\n$math-corcoeffient=%.2f$\\n$AUC=%.2f$'%(0.6, 0.65, 0.31, 0.7)\n",
    "# place a text box in upper left in axes coords\n",
    "ax.text(0.95, 0.2, textstr, transform=ax.transAxes, fontsize=14,\n",
    "    horizontalalignment='right', verticalalignment='bottom', bbox=props)\n",
    "\n",
    "io.show()"
   ]
  },
  {
   "cell_type": "code",
   "execution_count": null,
   "metadata": {
    "collapsed": true
   },
   "outputs": [],
   "source": [
    "f.savefig('SVM_GLCM.png')"
   ]
  },
  {
   "cell_type": "code",
   "execution_count": null,
   "metadata": {
    "collapsed": true
   },
   "outputs": [],
   "source": []
  }
 ],
 "metadata": {
  "kernelspec": {
   "display_name": "Python 2",
   "language": "python",
   "name": "python2"
  },
  "language_info": {
   "codemirror_mode": {
    "name": "ipython",
    "version": 2
   },
   "file_extension": ".py",
   "mimetype": "text/x-python",
   "name": "python",
   "nbconvert_exporter": "python",
   "pygments_lexer": "ipython2",
   "version": "2.7.13"
  }
 },
 "nbformat": 4,
 "nbformat_minor": 2
}
