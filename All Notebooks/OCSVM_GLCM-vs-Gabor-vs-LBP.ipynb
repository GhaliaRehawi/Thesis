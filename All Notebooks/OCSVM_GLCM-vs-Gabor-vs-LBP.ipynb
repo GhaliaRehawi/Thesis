{
 "cells": [
  {
   "cell_type": "code",
   "execution_count": 1,
   "metadata": {
    "collapsed": true
   },
   "outputs": [],
   "source": [
    "import os\n",
    "from fnmatch import fnmatch\n",
    "from trainData_featExt_glcm import trainData_featExt_glcm\n",
    "from trainData_featExt_gabor import trainData_featExt_gabor\n",
    "import numpy as np\n",
    "from PIL import Image\n",
    "from filtering.filters import Median\n",
    "from feature_extraction.glcm import Glcm\n",
    "from feature_extraction.gabor import Gabor\n",
    "import sklearn\n",
    "import time\n",
    "from gmm import Gmm\n",
    "from sklearn import preprocessing\n",
    "import pickle"
   ]
  },
  {
   "cell_type": "code",
   "execution_count": null,
   "metadata": {
    "collapsed": true
   },
   "outputs": [],
   "source": [
    "test_samples_feats_matrix_Gabor = np.load(\"test_samples_feats_matrix_Gabor.npy\")\n",
    "test_samples_feats_matrix_GLCM = np.load(\"test_samples_feats_matrix_GLCM.npy\")\n",
    "test_samples_feats_matrix_LBP = np.load(\"test_samples_feats_matrix_LBP.npy\")\n"
   ]
  },
  {
   "cell_type": "code",
   "execution_count": 2,
   "metadata": {
    "collapsed": true
   },
   "outputs": [],
   "source": [
    "valid_samples_feats_matrix_Gabor = np.load(\"valid_samples_feats_matrix_Gabor.npy\")\n",
    "valid_samples_feats_matrix_GLCM = np.load(\"valid_samples_feats_matrix_GLCM.npy\")\n",
    "valid_samples_feats_matrix_LBP = np.load(\"valid_samples_feats_matrix_LBP.npy\")"
   ]
  },
  {
   "cell_type": "code",
   "execution_count": 3,
   "metadata": {
    "collapsed": true
   },
   "outputs": [],
   "source": [
    "train_samples_feats_matrix_Gabor = np.load(\"train_samples_feats_matrix_Gabor.npy\")\n",
    "train_samples_feats_matrix_GLCM = np.load(\"train_samples_feats_matrix_GLCM.npy\")\n",
    "train_samples_feats_matrix_LBP = np.load(\"train_samples_feats_matrix_LBP.npy\")"
   ]
  },
  {
   "cell_type": "code",
   "execution_count": 4,
   "metadata": {
    "collapsed": true
   },
   "outputs": [],
   "source": [
    "svm_model_Gabor = pickle.load( open( \"SVM_Gabor_[0.2, 0.1]\", \"rb\" ))"
   ]
  },
  {
   "cell_type": "code",
   "execution_count": 5,
   "metadata": {
    "collapsed": true
   },
   "outputs": [],
   "source": [
    "svm_model_LBP = pickle.load( open( \"SVM_LBP_[0.2, 0.01]\", \"rb\" ))"
   ]
  },
  {
   "cell_type": "code",
   "execution_count": 6,
   "metadata": {
    "collapsed": true
   },
   "outputs": [],
   "source": [
    "svm_model_GLCM = pickle.load( open( \"SVM_GLCM_[0.2, 0.01]\", \"rb\" ))"
   ]
  },
  {
   "cell_type": "code",
   "execution_count": 7,
   "metadata": {
    "collapsed": true
   },
   "outputs": [],
   "source": [
    "#Ground truth\n",
    "y1 = np.repeat(+1, 6000) #normal\n",
    "y2 = np.repeat(-1, 4000) #abnormal\n",
    "y = np.concatenate((y1,y2))"
   ]
  },
  {
   "cell_type": "code",
   "execution_count": 8,
   "metadata": {
    "collapsed": true
   },
   "outputs": [],
   "source": [
    "#Predict labels of new data points\n",
    "y_predict_Gabor = svm_model_Gabor.predict(valid_samples_feats_matrix_Gabor)\n",
    "y_predict_score_Gabor = svm_model_Gabor.decision_function(valid_samples_feats_matrix_Gabor)"
   ]
  },
  {
   "cell_type": "code",
   "execution_count": 9,
   "metadata": {
    "collapsed": true
   },
   "outputs": [],
   "source": [
    "#Predict labels of new data points\n",
    "y_predict_LBP = svm_model_LBP.predict(valid_samples_feats_matrix_LBP)\n",
    "y_predict_score_LBP = svm_model_LBP.decision_function(valid_samples_feats_matrix_LBP)"
   ]
  },
  {
   "cell_type": "code",
   "execution_count": 10,
   "metadata": {
    "collapsed": true
   },
   "outputs": [],
   "source": [
    "#Predict labels of new data points\n",
    "y_predict_GLCM = svm_model_GLCM.predict(valid_samples_feats_matrix_GLCM)\n",
    "y_predict_score_GLCM = svm_model_GLCM.decision_function(valid_samples_feats_matrix_GLCM)"
   ]
  },
  {
   "cell_type": "code",
   "execution_count": 11,
   "metadata": {},
   "outputs": [
    {
     "data": {
      "image/png": "[encoded data removed]",
      "text/plain": [
       "<matplotlib.figure.Figure at 0x7f30c2c9aa90>"
      ]
     },
     "metadata": {},
     "output_type": "display_data"
    }
   ],
   "source": [
    "import matplotlib.pyplot as pl\n",
    "import matplotlib\n",
    "from skimage import io\n",
    "\n",
    "\n",
    "Gabor_fpr,Gabor_tpr,Gabor_thresh = sklearn.metrics.roc_curve(y,y_predict_score_Gabor)\n",
    "GLCM_fpr,GLCM_tpr,GLCM_thresh = sklearn.metrics.roc_curve(y,y_predict_score_GLCM)\n",
    "LBP_fpr,LBP_tpr,LBP_thresh = sklearn.metrics.roc_curve(y,y_predict_score_LBP)\n",
    "\n",
    "f,ax = pl.subplots(1,1)\n",
    "ax.plot(Gabor_fpr,Gabor_tpr,label=\"OC-SVM-Gabor\")\n",
    "ax.plot(GLCM_fpr,GLCM_tpr,label=\"OC-SVM-GLCM\")\n",
    "ax.plot(LBP_fpr,LBP_tpr,label=\"OC-SVM-LBP\")\n",
    "\n",
    "ax.set_xlabel(\"False Positive Rate\")\n",
    "ax.set_ylabel(\"True Positive Rate\")\n",
    "ax.set_title(\"ROC curves\")\n",
    "ax.legend(loc=\"lower right\")\n",
    "\n",
    "io.show()"
   ]
  },
  {
   "cell_type": "code",
   "execution_count": 12,
   "metadata": {
    "collapsed": true
   },
   "outputs": [],
   "source": [
    "f.savefig('OCSVM_GLCM-vs-Gabor-vs-LBP_valid.png')"
   ]
  },
  {
   "cell_type": "code",
   "execution_count": null,
   "metadata": {
    "collapsed": true
   },
   "outputs": [],
   "source": []
  }
 ],
 "metadata": {
  "kernelspec": {
   "display_name": "Python 2",
   "language": "python",
   "name": "python2"
  },
  "language_info": {
   "codemirror_mode": {
    "name": "ipython",
    "version": 2
   },
   "file_extension": ".py",
   "mimetype": "text/x-python",
   "name": "python",
   "nbconvert_exporter": "python",
   "pygments_lexer": "ipython2",
   "version": "2.7.13"
  }
 },
 "nbformat": 4,
 "nbformat_minor": 2
}
