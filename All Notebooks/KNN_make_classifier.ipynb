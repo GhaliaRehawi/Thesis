{
 "cells": [
  {
   "cell_type": "code",
   "execution_count": 1,
   "metadata": {
    "collapsed": true
   },
   "outputs": [],
   "source": [
    "import os\n",
    "from fnmatch import fnmatch\n",
    "from trainData_featExt_glcm import trainData_featExt_glcm\n",
    "from trainData_featExt_gabor import trainData_featExt_gabor\n",
    "import numpy as np\n",
    "from PIL import Image\n",
    "from filtering.filters import Median\n",
    "from feature_extraction.lbp import Lbp\n",
    "from sklearn.neighbors import NearestNeighbors\n",
    "import sklearn\n",
    "import time\n",
    "from sklearn.metrics.pairwise import euclidean_distances\n",
    "from sklearn.preprocessing import normalize\n",
    "from sklearn import preprocessing"
   ]
  },
  {
   "cell_type": "code",
   "execution_count": 2,
   "metadata": {
    "collapsed": true
   },
   "outputs": [],
   "source": [
    "#Feature_matrix_training = genfromtxt('Featurevector-train')\n",
    "Feature_matrix_training = np.load(\"train_make_classification.npy\")"
   ]
  },
  {
   "cell_type": "code",
   "execution_count": 3,
   "metadata": {
    "collapsed": true
   },
   "outputs": [],
   "source": [
    "validation_feature_matrix = np.load(\"validataion_make_clssification_data.npy\")"
   ]
  },
  {
   "cell_type": "code",
   "execution_count": 4,
   "metadata": {},
   "outputs": [
    {
     "name": "stdout",
     "output_type": "stream",
     "text": [
      "('traing time: ', 0.02747321128845215)\n"
     ]
    }
   ],
   "source": [
    "#Train a KNN model using training data\n",
    "t0 = time.time()\n",
    "knn_model = NearestNeighbors(500, algorithm = 'kd_tree', metric ='euclidean')\n",
    "knn_model.fit(Feature_matrix_training) \n",
    "print(\"traing time: \", time.time() - t0)"
   ]
  },
  {
   "cell_type": "code",
   "execution_count": 5,
   "metadata": {
    "collapsed": true
   },
   "outputs": [],
   "source": [
    "#find k nearest points for each sample\n",
    "kth_dist, kth_ind = knn_model.kneighbors(Feature_matrix_training)\n",
    "#1-D array contains distances of each data point to its kth nearest point \n",
    "kth_nearest_dist = kth_dist[:,-1]"
   ]
  },
  {
   "cell_type": "code",
   "execution_count": 41,
   "metadata": {
    "collapsed": true
   },
   "outputs": [],
   "source": [
    "#find k nearest points for each valid sample\n",
    "kth_dist2, kth_ind2 = knn_model.kneighbors(validation_feature_matrix)\n",
    "#1-D array contains distances of each data point to its kth nearest point\n",
    "kth_nearest_dist2 = kth_dist2[:,-1]\n",
    "labels = np.repeat(0,10000)\n",
    "#each validation data point whose distance to its kth nearest exceeds the \n",
    "#threshold, which is np.amax(kth_nearest_dist) is novel (1)\n",
    "labels[kth_nearest_dist2 > np.max(kth_nearest_dist)] = 1"
   ]
  },
  {
   "cell_type": "code",
   "execution_count": 42,
   "metadata": {
    "collapsed": true
   },
   "outputs": [],
   "source": [
    "#Ground truth\n",
    "y1 = np.repeat(0, 6000) #normal\n",
    "y2 = np.repeat(1, 4000) #abnormal\n",
    "y = np.concatenate((y1,y2))"
   ]
  },
  {
   "cell_type": "code",
   "execution_count": 43,
   "metadata": {},
   "outputs": [
    {
     "name": "stdout",
     "output_type": "stream",
     "text": [
      "('f1: ', 0.99906214751400479, 'auc: ', 0.99999962500000006)\n"
     ]
    }
   ],
   "source": [
    "f1 = sklearn.metrics.f1_score(y, labels, average = 'macro')\n",
    "auc = sklearn.metrics.roc_auc_score(y, kth_nearest_dist2)\n",
    "print (\"f1: \", f1 , \"auc: \", auc)"
   ]
  },
  {
   "cell_type": "code",
   "execution_count": null,
   "metadata": {
    "collapsed": true
   },
   "outputs": [],
   "source": []
  }
 ],
 "metadata": {
  "kernelspec": {
   "display_name": "Python 2",
   "language": "python",
   "name": "python2"
  },
  "language_info": {
   "codemirror_mode": {
    "name": "ipython",
    "version": 2
   },
   "file_extension": ".py",
   "mimetype": "text/x-python",
   "name": "python",
   "nbconvert_exporter": "python",
   "pygments_lexer": "ipython2",
   "version": "2.7.13"
  }
 },
 "nbformat": 4,
 "nbformat_minor": 2
}
