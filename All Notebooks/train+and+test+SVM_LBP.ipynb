{
 "cells": [
  {
   "cell_type": "code",
   "execution_count": 1,
   "metadata": {
    "collapsed": true
   },
   "outputs": [],
   "source": [
    "import os\n",
    "from fnmatch import fnmatch\n",
    "import numpy as np\n",
    "from PIL import Image\n",
    "from filtering.filters import Median\n",
    "from feature_extraction.lbp import Lbp\n",
    "from sklearn import svm\n",
    "import sklearn\n",
    "import time\n",
    "import pickle"
   ]
  },
  {
   "cell_type": "code",
   "execution_count": null,
   "metadata": {},
   "outputs": [],
   "source": [
    "#Read features of training samples\n",
    "print(\"loading features\")\n",
    "train_samples_feats_matrix_LBP = np.load(\"train_samples_feats_matrix_LBP.npy\")\n",
    "print(\"features loaded\")"
   ]
  },
  {
   "cell_type": "code",
   "execution_count": null,
   "metadata": {
    "collapsed": true
   },
   "outputs": [],
   "source": [
    "print len (train_samples_feats_matrix_LBP[0])"
   ]
  },
  {
   "cell_type": "code",
   "execution_count": null,
   "metadata": {
    "collapsed": true
   },
   "outputs": [],
   "source": [
    "#Train svn model from training data\n",
    "t0 = time.time()\n",
    "#nu : upper bound of training errors (normal data but lie outside of normalty boundry)\n",
    "svm_model = svm.OneClassSVM(kernel='rbf', gamma=0.1, nu=0.1)\n",
    "svm_model.fit(train_samples_feats_matrix_LBP)\n",
    "print(\"traing time: \", time.time() - t0)"
   ]
  },
  {
   "cell_type": "code",
   "execution_count": null,
   "metadata": {
    "collapsed": true
   },
   "outputs": [],
   "source": [
    "#load validation samples feature matrix\n",
    "valid_samples_feats_matrix = np.load(\"valid_samples_feats_matrix_LBP.npy\")"
   ]
  },
  {
   "cell_type": "code",
   "execution_count": 2,
   "metadata": {
    "collapsed": true
   },
   "outputs": [],
   "source": [
    "test_samples_feats_matrix = np.load(\"test_samples_feats_matrix_LBP.npy\")"
   ]
  },
  {
   "cell_type": "code",
   "execution_count": 3,
   "metadata": {
    "collapsed": true
   },
   "outputs": [],
   "source": [
    "svm_model = pickle.load( open( \"SVM_LBP_[0.2, 0.01]\", \"rb\" ))"
   ]
  },
  {
   "cell_type": "code",
   "execution_count": 4,
   "metadata": {
    "collapsed": true
   },
   "outputs": [],
   "source": [
    "#Ground truth\n",
    "y1 = np.repeat(+1, 6000) #normal\n",
    "y2 = np.repeat(-1, 4000) #abnormal\n",
    "y = np.concatenate((y1,y2))"
   ]
  },
  {
   "cell_type": "code",
   "execution_count": null,
   "metadata": {},
   "outputs": [],
   "source": [
    "#Preict labels of training dataset\n",
    "y_predict_train = svm_model.predict(train_samples_feats_matrix_LBP)\n",
    "print (\"training errors\", y_predict_train[y_predict_train == -1].size)"
   ]
  },
  {
   "cell_type": "code",
   "execution_count": 5,
   "metadata": {},
   "outputs": [
    {
     "name": "stdout",
     "output_type": "stream",
     "text": [
      "('number of samples detected as outliers', 8244)\n",
      "('detected as normal', 1756)\n"
     ]
    }
   ],
   "source": [
    "#Predict labels of new data points\n",
    "y_predict = svm_model.predict(test_samples_feats_matrix)\n",
    "print (\"number of samples detected as outliers\", y_predict[y_predict == -1].size)\n",
    "print (\"detected as normal\", y_predict[y_predict == +1].size)"
   ]
  },
  {
   "cell_type": "code",
   "execution_count": 6,
   "metadata": {
    "collapsed": true
   },
   "outputs": [],
   "source": [
    "y_predict_score = svm_model.decision_function(test_samples_feats_matrix)"
   ]
  },
  {
   "cell_type": "code",
   "execution_count": null,
   "metadata": {
    "collapsed": true
   },
   "outputs": [],
   "source": [
    "fpr,tpr,thresh = sklearn.metrics.roc_curve(y, y_predict_score)\n",
    "for t, thres in enumerate (thresh) :\n",
    "  \n",
    "    f1 = sklearn.metrics.f1_score(y, tmp, average = 'binary')\n",
    "    auc = sklearn.metrics.roc_auc_score(y, y_predict_score)\n",
    "    print (\"f1: \", f1, \" auc: \", auc, \"thres: \", thres)"
   ]
  },
  {
   "cell_type": "code",
   "execution_count": 7,
   "metadata": {},
   "outputs": [
    {
     "name": "stdout",
     "output_type": "stream",
     "text": [
      "('f1_binary: ', 0.55374060764456057, 'f1_macro: ', 0.42462687937668975, 'MAth_cof: ', 0.049571847276067137, ' auc: ', 0.55538258333333335)\n",
      "('confusion matrix', 3390, 610, 4854, 1146)\n"
     ]
    }
   ],
   "source": [
    "f1_binary = sklearn.metrics.f1_score(y, y_predict, pos_label =-1, average = 'binary')\n",
    "f1_macro = sklearn.metrics.f1_score(y, y_predict, average = 'macro')\n",
    "auc = sklearn.metrics.roc_auc_score(y, y_predict_score)\n",
    "Math_Cof = sklearn.metrics.matthews_corrcoef(y, y_predict) \n",
    "tn, fp, fn, tp  = sklearn.metrics.confusion_matrix(y, y_predict).ravel()\n",
    "print (\"f1_binary: \", f1_binary, \"f1_macro: \", f1_macro, \"MAth_cof: \", Math_Cof , \" auc: \", auc)\n",
    "print(\"confusion matrix\", tn, fp, fn, tp)"
   ]
  },
  {
   "cell_type": "code",
   "execution_count": null,
   "metadata": {},
   "outputs": [],
   "source": [
    "import matplotlib.pyplot as pl\n",
    "import matplotlib\n",
    "from skimage import io\n",
    "\n",
    "fpr,tpr,thresh = sklearn.metrics.roc_curve(y,y_predict_score)\n",
    "\n",
    "f,ax = pl.subplots(1,1)\n",
    "ax.plot(fpr,tpr,label=\"SVM\")\n",
    "ax.set_xlabel(\"False Positive Rate\")\n",
    "ax.set_ylabel(\"True Positive Rate\")\n",
    "ax.set_title(\"ROC curves\")\n",
    "ax.legend(loc=\"lower right\")\n",
    "# these are matplotlib.patch.Patch properties\n",
    "props = dict(boxstyle='square', facecolor='white', alpha=0.5)\n",
    "\n",
    "textstr = '$F1-binary=%.2f$\\n$F1-macro=%.2f$\\n$math-corcoeffient=%.2f$\\n$AUC=%.2f$'%(0.58, 0.63, 0.28, 0.67)\n",
    "# place a text box in upper left in axes coords\n",
    "ax.text(0.95, 0.2, textstr, transform=ax.transAxes, fontsize=14,\n",
    "    horizontalalignment='right', verticalalignment='bottom', bbox=props)\n",
    "\n",
    "io.show()"
   ]
  },
  {
   "cell_type": "code",
   "execution_count": null,
   "metadata": {
    "collapsed": true
   },
   "outputs": [],
   "source": [
    "f.savefig('SVM_LBP.png')"
   ]
  },
  {
   "cell_type": "code",
   "execution_count": null,
   "metadata": {
    "collapsed": true
   },
   "outputs": [],
   "source": []
  }
 ],
 "metadata": {
  "kernelspec": {
   "display_name": "Python 2",
   "language": "python",
   "name": "python2"
  },
  "language_info": {
   "codemirror_mode": {
    "name": "ipython",
    "version": 2
   },
   "file_extension": ".py",
   "mimetype": "text/x-python",
   "name": "python",
   "nbconvert_exporter": "python",
   "pygments_lexer": "ipython2",
   "version": "2.7.13"
  }
 },
 "nbformat": 4,
 "nbformat_minor": 2
}
