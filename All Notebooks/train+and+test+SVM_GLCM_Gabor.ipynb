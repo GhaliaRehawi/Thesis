{
 "cells": [
  {
   "cell_type": "code",
   "execution_count": 1,
   "metadata": {
    "collapsed": true
   },
   "outputs": [],
   "source": [
    "import os\n",
    "from fnmatch import fnmatch\n",
    "import numpy as np\n",
    "from PIL import Image\n",
    "from filtering.filters import Median\n",
    "from feature_extraction.lbp import Lbp\n",
    "from sklearn import svm\n",
    "import sklearn\n",
    "import time\n",
    "import pickle\n",
    "from sklearn import preprocessing"
   ]
  },
  {
   "cell_type": "code",
   "execution_count": null,
   "metadata": {
    "collapsed": true
   },
   "outputs": [],
   "source": [
    "#Read features of training samples Gabor\n",
    "print(\"loading features\")\n",
    "train_samples_feats_matrix_gabor = np.load(\"train_samples_feats_matrix_Gabor.npy\")"
   ]
  },
  {
   "cell_type": "code",
   "execution_count": null,
   "metadata": {
    "collapsed": true
   },
   "outputs": [],
   "source": [
    "#Read features of training samples Gabor\n",
    "print(\"loading features\")\n",
    "train_samples_feats_matrix_glcm = np.load(\"train_samples_feats_matrix_GLCM.npy\")"
   ]
  },
  {
   "cell_type": "code",
   "execution_count": null,
   "metadata": {
    "collapsed": true
   },
   "outputs": [],
   "source": [
    "#Load features of validation samples Gabor\n",
    "valid_samples_feats_matrix_gabor = np.load(\"valid_samples_feats_matrix_Gabor.npy\")"
   ]
  },
  {
   "cell_type": "code",
   "execution_count": null,
   "metadata": {
    "collapsed": true
   },
   "outputs": [],
   "source": [
    "#Load features of validation samples\n",
    "valid_samples_feats_matrix_glcm = np.load(\"valid_samples_feats_matrix_GLCM.npy\")"
   ]
  },
  {
   "cell_type": "code",
   "execution_count": null,
   "metadata": {
    "collapsed": true
   },
   "outputs": [],
   "source": [
    "#concatenating features \n",
    "#train_samples_feats_matrix_gabor_glcm = np.concatenate((train_samples_feats_matrix_glcm,train_samples_feats_matrix_gabor), axis=1)\n",
    "valid_samples_feats_matrix_gabor_glcm = np.concatenate((valid_samples_feats_matrix_glcm,valid_samples_feats_matrix_gabor), axis=1)"
   ]
  },
  {
   "cell_type": "code",
   "execution_count": 2,
   "metadata": {
    "collapsed": true
   },
   "outputs": [],
   "source": [
    "test_samples_feats_matrix_GLCM = np.load(\"test_samples_feats_matrix_GLCM.npy\")\n",
    "test_samples_feats_matrix_Gabor = np.load(\"test_samples_feats_matrix_Gabor.npy\")\n",
    "test_samples_feats_matrix_glcm_gabor = np.concatenate((test_samples_feats_matrix_GLCM,test_samples_feats_matrix_Gabor), axis=1)"
   ]
  },
  {
   "cell_type": "code",
   "execution_count": 3,
   "metadata": {
    "collapsed": true
   },
   "outputs": [],
   "source": [
    "svm_model = pickle.load( open( \"SVM_['GLCM', 'Gabor']_[0.2, 0.1]\", \"rb\" ))"
   ]
  },
  {
   "cell_type": "code",
   "execution_count": null,
   "metadata": {
    "collapsed": true
   },
   "outputs": [],
   "source": [
    "#Train svn model from training data\n",
    "t0 = time.time()\n",
    "#nu : upper bound of training errors (normal data but lie outside of normalty boundry)\n",
    "svm_model = svm.OneClassSVM(kernel='rbf', gamma=0.1, nu=0.1)\n",
    "svm_model.fit(train_samples_feats_matrix_gabor_LBP)\n",
    "print(\"traing time: \", time.time() - t0)"
   ]
  },
  {
   "cell_type": "code",
   "execution_count": 4,
   "metadata": {
    "collapsed": true
   },
   "outputs": [],
   "source": [
    "y_predict = svm_model.predict(test_samples_feats_matrix_glcm_gabor)\n",
    "y_predict_score = svm_model.decision_function(test_samples_feats_matrix_glcm_gabor)"
   ]
  },
  {
   "cell_type": "code",
   "execution_count": null,
   "metadata": {},
   "outputs": [],
   "source": [
    "print len(y_predict)"
   ]
  },
  {
   "cell_type": "code",
   "execution_count": 9,
   "metadata": {
    "collapsed": true
   },
   "outputs": [],
   "source": [
    "#Ground truth\n",
    "y1 = np.repeat(+1, 6000) #normal\n",
    "y2 = np.repeat(-1, 4000) #abnormal\n",
    "y = np.concatenate((y1,y2))"
   ]
  },
  {
   "cell_type": "code",
   "execution_count": 10,
   "metadata": {},
   "outputs": [
    {
     "name": "stdout",
     "output_type": "stream",
     "text": [
      "('f1_binary: ', 0.30627922511690048, 'f1_macro: ', 0.50490952406287504, 'MAth_cof: ', 0.062296408152407348, ' auc: ', 0.58764608333333324)\n",
      "('confusion matrix', 917, 3083, 1071, 4929)\n"
     ]
    }
   ],
   "source": [
    "f1_binary = sklearn.metrics.f1_score(y, y_predict, pos_label =-1, average = 'binary')\n",
    "f1_macro = sklearn.metrics.f1_score(y, y_predict, average = 'macro')\n",
    "auc = sklearn.metrics.roc_auc_score(y, y_predict_score)\n",
    "Math_Cof = sklearn.metrics.matthews_corrcoef(y, y_predict) \n",
    "tn, fp, fn, tp  = sklearn.metrics.confusion_matrix(y, y_predict).ravel()\n",
    "print (\"f1_binary: \", f1_binary, \"f1_macro: \", f1_macro, \"MAth_cof: \", Math_Cof , \" auc: \", auc)\n",
    "print(\"confusion matrix\", tn, fp, fn, tp)"
   ]
  },
  {
   "cell_type": "code",
   "execution_count": null,
   "metadata": {
    "collapsed": true
   },
   "outputs": [],
   "source": [
    "print  len(y_predict_score)"
   ]
  },
  {
   "cell_type": "code",
   "execution_count": null,
   "metadata": {
    "collapsed": true
   },
   "outputs": [],
   "source": [
    "import matplotlib.pyplot as pl\n",
    "import matplotlib\n",
    "from skimage import io\n",
    "\n",
    "fpr,tpr,thresh = sklearn.metrics.roc_curve(y,y_predict_score)\n",
    "\n",
    "f,ax = pl.subplots(1,1)\n",
    "ax.plot(fpr,tpr,label=\"SVM\")\n",
    "ax.set_xlabel(\"False Positive Rate\")\n",
    "ax.set_ylabel(\"True Positive Rate\")\n",
    "ax.set_title(\"ROC curves\")\n",
    "ax.legend(loc=\"lower right\")\n",
    "# these are matplotlib.patch.Patch properties\n",
    "props = dict(boxstyle='square', facecolor='white', alpha=0.5)\n",
    "\n",
    "textstr = '$F1-binary=%.2f$\\n$F1-macro=%.2f$\\n$math-corcoeffient=%.2f$\\n$AUC=%.2f$'%(0.65, 0.72, 0.45, 0.72)\n",
    "# place a text box in upper left in axes coords\n",
    "ax.text(0.95, 0.2, textstr, transform=ax.transAxes, fontsize=13,\n",
    "    horizontalalignment='right', verticalalignment='bottom', bbox=props)\n",
    "\n",
    "io.show()"
   ]
  },
  {
   "cell_type": "code",
   "execution_count": null,
   "metadata": {
    "collapsed": true
   },
   "outputs": [],
   "source": [
    "f.savefig('SVM_GLCM_Gabor.png')"
   ]
  },
  {
   "cell_type": "code",
   "execution_count": null,
   "metadata": {
    "collapsed": true
   },
   "outputs": [],
   "source": []
  }
 ],
 "metadata": {
  "kernelspec": {
   "display_name": "Python 2",
   "language": "python",
   "name": "python2"
  },
  "language_info": {
   "codemirror_mode": {
    "name": "ipython",
    "version": 2
   },
   "file_extension": ".py",
   "mimetype": "text/x-python",
   "name": "python",
   "nbconvert_exporter": "python",
   "pygments_lexer": "ipython2",
   "version": "2.7.13"
  }
 },
 "nbformat": 4,
 "nbformat_minor": 2
}
