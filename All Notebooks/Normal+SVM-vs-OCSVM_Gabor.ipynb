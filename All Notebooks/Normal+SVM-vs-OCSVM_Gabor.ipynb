{
 "cells": [
  {
   "cell_type": "code",
   "execution_count": 19,
   "metadata": {
    "collapsed": true
   },
   "outputs": [],
   "source": [
    "from sklearn.svm import SVC\n",
    "import numpy as np\n",
    "from sklearn import preprocessing\n",
    "import sklearn\n",
    "from sklearn.manifold import TSNE\n",
    "import matplotlib.pyplot as plt\n",
    "from numpy import *\n",
    "import pickle"
   ]
  },
  {
   "cell_type": "code",
   "execution_count": 2,
   "metadata": {
    "collapsed": true
   },
   "outputs": [],
   "source": [
    "#Load features of validation samples\n",
    "tmp = np.load(\"valid_samples_feats_matrix_Gabor.npy\")\n",
    "#valid_samples_feats_matrix_GLCM = np.load(\"valid_samples_feats_matrix_GLCM.npy\")\n",
    "#valid_samples_feats_matrix_glcm_gabor = np.concatenate((valid_samples_feats_matrix_GLCM,valid_samples_feats_matrix_Gabor), axis=1)"
   ]
  },
  {
   "cell_type": "code",
   "execution_count": 3,
   "metadata": {
    "collapsed": true
   },
   "outputs": [],
   "source": [
    "train_samples_feats_matrix_Gabor_norm = tmp[0:3000, :]"
   ]
  },
  {
   "cell_type": "code",
   "execution_count": 4,
   "metadata": {
    "collapsed": true
   },
   "outputs": [],
   "source": [
    "valid_samples_feats_matrix_Gabor_norm = tmp[3000:6000, :]"
   ]
  },
  {
   "cell_type": "code",
   "execution_count": 5,
   "metadata": {
    "collapsed": true
   },
   "outputs": [],
   "source": [
    "train_samples_feats_matrix_Gabor_abn = tmp[6000:8000, :]"
   ]
  },
  {
   "cell_type": "code",
   "execution_count": 6,
   "metadata": {
    "collapsed": true
   },
   "outputs": [],
   "source": [
    "valid_samples_feats_matrix_Gabor_abn = tmp[8000:10000, :]"
   ]
  },
  {
   "cell_type": "code",
   "execution_count": 7,
   "metadata": {
    "collapsed": true
   },
   "outputs": [],
   "source": [
    "train_samples_feats_matrix_Gabor = np.concatenate((train_samples_feats_matrix_Gabor_norm, train_samples_feats_matrix_Gabor_abn), axis = 0)"
   ]
  },
  {
   "cell_type": "code",
   "execution_count": 8,
   "metadata": {
    "collapsed": true
   },
   "outputs": [],
   "source": [
    "valid_samples_feats_matrix_Gabor = np.concatenate((valid_samples_feats_matrix_Gabor_norm, valid_samples_feats_matrix_Gabor_abn), axis =0)"
   ]
  },
  {
   "cell_type": "code",
   "execution_count": null,
   "metadata": {
    "collapsed": true
   },
   "outputs": [],
   "source": [
    "#Load features of validation samples\n",
    "test_samples_feats_matrix_Gabor = np.load(\"test_samples_feats_matrix_Gabor.npy\")"
   ]
  },
  {
   "cell_type": "code",
   "execution_count": 12,
   "metadata": {
    "collapsed": true
   },
   "outputs": [],
   "source": [
    "#Ground truth\n",
    "SVM_y1 = np.repeat(1, 3000) #normal\n",
    "SVM_y2 = np.repeat(0, 2000) #abnormal\n",
    "SVM_y = np.concatenate((SVM_y1,SVM_y2))"
   ]
  },
  {
   "cell_type": "code",
   "execution_count": 13,
   "metadata": {},
   "outputs": [
    {
     "data": {
      "text/plain": [
       "SVC(C=60, cache_size=200, class_weight=None, coef0=0.0,\n",
       "  decision_function_shape='ovr', degree=3, gamma=100, kernel='rbf',\n",
       "  max_iter=-1, probability=False, random_state=None, shrinking=True,\n",
       "  tol=0.001, verbose=False)"
      ]
     },
     "execution_count": 13,
     "metadata": {},
     "output_type": "execute_result"
    }
   ],
   "source": [
    "clf = SVC(C=60, cache_size=200, class_weight=None, coef0=0.0,\n",
    "          decision_function_shape='ovr', degree=3, gamma=100, kernel='rbf')\n",
    "clf.fit(train_samples_feats_matrix_Gabor, SVM_y)"
   ]
  },
  {
   "cell_type": "code",
   "execution_count": 14,
   "metadata": {
    "collapsed": true
   },
   "outputs": [],
   "source": [
    "#Predict labels of new data points\n",
    "y_predict = clf.predict(valid_samples_feats_matrix_Gabor)\n",
    "#print (\"number of samples detected as outliers\", y_predict[y_predict == 0].size)\n",
    "#print (\"detected as normal\", y_predict[y_predict == 1].size)"
   ]
  },
  {
   "cell_type": "code",
   "execution_count": 15,
   "metadata": {
    "collapsed": true
   },
   "outputs": [],
   "source": [
    "y_predict_score = clf.decision_function(valid_samples_feats_matrix_Gabor)"
   ]
  },
  {
   "cell_type": "code",
   "execution_count": 16,
   "metadata": {},
   "outputs": [
    {
     "name": "stdout",
     "output_type": "stream",
     "text": [
      "('f1_binary: ', 0.75529542920847259, 'f1_macro: ', 0.80918233718689381, ' auc: ', 0.89099266666666666, 'Matthews: ', 0.63121376517421512)\n"
     ]
    }
   ],
   "source": [
    "f1_binary = sklearn.metrics.f1_score(SVM_y, y_predict, pos_label= 0, average = 'binary')\n",
    "f1_macro = sklearn.metrics.f1_score(SVM_y, y_predict, average = 'macro')\n",
    "Math_Cof = sklearn.metrics.matthews_corrcoef(SVM_y, y_predict) \n",
    "auc = sklearn.metrics.roc_auc_score(SVM_y, y_predict_score)\n",
    "print (\"f1_binary: \", f1_binary, \"f1_macro: \", f1_macro , \" auc: \", auc, \"Matthews: \", Math_Cof)"
   ]
  },
  {
   "cell_type": "code",
   "execution_count": 17,
   "metadata": {
    "collapsed": true
   },
   "outputs": [],
   "source": [
    "OC_valid_samples_feats_matrix_gabor = np.load(\"valid_samples_feats_matrix_Gabor.npy\")"
   ]
  },
  {
   "cell_type": "code",
   "execution_count": 20,
   "metadata": {},
   "outputs": [],
   "source": [
    "svm_model = pickle.load( open( \"SVM_Gabor_[0.2, 0.1]\", \"rb\" ))"
   ]
  },
  {
   "cell_type": "code",
   "execution_count": 22,
   "metadata": {},
   "outputs": [],
   "source": [
    "#Ground truth\n",
    "OC_y1 = np.repeat(+1, 6000) #normal\n",
    "OC_y2 = np.repeat(-1, 4000) #abnormal\n",
    "OC_y = np.concatenate((OC_y1,OC_y2))"
   ]
  },
  {
   "cell_type": "code",
   "execution_count": 25,
   "metadata": {
    "collapsed": true
   },
   "outputs": [],
   "source": [
    "OC_y_predict = svm_model.predict(OC_valid_samples_feats_matrix_gabor)"
   ]
  },
  {
   "cell_type": "code",
   "execution_count": 26,
   "metadata": {
    "collapsed": true
   },
   "outputs": [],
   "source": [
    "OC_y_predict_score = svm_model.decision_function(OC_valid_samples_feats_matrix_gabor)"
   ]
  },
  {
   "cell_type": "code",
   "execution_count": 27,
   "metadata": {},
   "outputs": [
    {
     "data": {
      "image/png": "[encoded data removed]",
      "text/plain": [
       "<matplotlib.figure.Figure at 0x7fadd164e090>"
      ]
     },
     "metadata": {},
     "output_type": "display_data"
    }
   ],
   "source": [
    "import matplotlib.pyplot as pl\n",
    "import matplotlib\n",
    "from skimage import io\n",
    "\n",
    "\n",
    "fpr,tpr,thresh = sklearn.metrics.roc_curve(SVM_y,y_predict_score)\n",
    "OC_fpr,OC_tpr,OC_thresh = sklearn.metrics.roc_curve(OC_y,OC_y_predict_score)\n",
    "\n",
    "f,ax = pl.subplots(1,1)\n",
    "ax.plot(fpr,tpr,label=\"SVM\")\n",
    "ax.plot(OC_fpr,OC_tpr,label=\"OC-SVM\")\n",
    "\n",
    "ax.set_xlabel(\"False Positive Rate\")\n",
    "ax.set_ylabel(\"True Positive Rate\")\n",
    "ax.set_title(\"ROC curves\")\n",
    "ax.legend(loc=\"lower right\")\n",
    "\n",
    "io.show()"
   ]
  },
  {
   "cell_type": "code",
   "execution_count": 28,
   "metadata": {
    "collapsed": true
   },
   "outputs": [],
   "source": [
    "f.savefig('SVM-vs-OCSVM_Gabor.png')"
   ]
  },
  {
   "cell_type": "code",
   "execution_count": null,
   "metadata": {
    "collapsed": true
   },
   "outputs": [],
   "source": []
  }
 ],
 "metadata": {
  "kernelspec": {
   "display_name": "Python 2",
   "language": "python",
   "name": "python2"
  },
  "language_info": {
   "codemirror_mode": {
    "name": "ipython",
    "version": 2
   },
   "file_extension": ".py",
   "mimetype": "text/x-python",
   "name": "python",
   "nbconvert_exporter": "python",
   "pygments_lexer": "ipython2",
   "version": "2.7.13"
  }
 },
 "nbformat": 4,
 "nbformat_minor": 2
}
