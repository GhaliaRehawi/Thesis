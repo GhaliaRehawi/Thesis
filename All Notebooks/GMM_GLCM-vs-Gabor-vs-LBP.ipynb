{
 "cells": [
  {
   "cell_type": "code",
   "execution_count": 1,
   "metadata": {
    "collapsed": true
   },
   "outputs": [],
   "source": [
    "import os\n",
    "from fnmatch import fnmatch\n",
    "from trainData_featExt_glcm import trainData_featExt_glcm\n",
    "from trainData_featExt_gabor import trainData_featExt_gabor\n",
    "import numpy as np\n",
    "from PIL import Image\n",
    "from filtering.filters import Median\n",
    "from feature_extraction.glcm import Glcm\n",
    "from feature_extraction.gabor import Gabor\n",
    "import sklearn\n",
    "import time\n",
    "from gmm import Gmm\n",
    "from sklearn import preprocessing\n",
    "import pickle"
   ]
  },
  {
   "cell_type": "code",
   "execution_count": null,
   "metadata": {
    "collapsed": true
   },
   "outputs": [],
   "source": [
    "test_samples_feats_matrix_Gabor = np.load(\"test_samples_feats_matrix_Gabor.npy\")\n",
    "test_samples_feats_matrix_GLCM = np.load(\"test_samples_feats_matrix_GLCM.npy\")\n",
    "test_samples_feats_matrix_LBP = np.load(\"test_samples_feats_matrix_LBP.npy\")\n"
   ]
  },
  {
   "cell_type": "code",
   "execution_count": 2,
   "metadata": {
    "collapsed": true
   },
   "outputs": [],
   "source": [
    "valid_samples_feats_matrix_Gabor = np.load(\"valid_samples_feats_matrix_Gabor.npy\")\n",
    "valid_samples_feats_matrix_GLCM = np.load(\"valid_samples_feats_matrix_GLCM.npy\")\n",
    "valid_samples_feats_matrix_LBP = np.load(\"valid_samples_feats_matrix_LBP.npy\")"
   ]
  },
  {
   "cell_type": "code",
   "execution_count": 3,
   "metadata": {
    "collapsed": true
   },
   "outputs": [],
   "source": [
    "train_samples_feats_matrix_Gabor = np.load(\"train_samples_feats_matrix_Gabor.npy\")\n",
    "train_samples_feats_matrix_GLCM = np.load(\"train_samples_feats_matrix_GLCM.npy\")\n",
    "train_samples_feats_matrix_LBP = np.load(\"train_samples_feats_matrix_LBP.npy\")"
   ]
  },
  {
   "cell_type": "code",
   "execution_count": 4,
   "metadata": {
    "collapsed": true
   },
   "outputs": [],
   "source": [
    "gm_model_Gabor = pickle.load( open( 'GMM_Gabor_1000', \"rb\" ))"
   ]
  },
  {
   "cell_type": "code",
   "execution_count": 5,
   "metadata": {
    "collapsed": true
   },
   "outputs": [],
   "source": [
    "gm_model_LBP = pickle.load( open( 'GMM_LBP_500', \"rb\" ))"
   ]
  },
  {
   "cell_type": "code",
   "execution_count": 6,
   "metadata": {
    "collapsed": true
   },
   "outputs": [],
   "source": [
    "gm_model_GLCM = pickle.load( open( 'GMM_GLCM_2000', \"rb\" ))"
   ]
  },
  {
   "cell_type": "code",
   "execution_count": 8,
   "metadata": {},
   "outputs": [],
   "source": [
    "#Predict novelty score of new data points\n",
    "Gabor_y_predict_score = gm_model_Gabor.score_samples(valid_samples_feats_matrix_Gabor)\n",
    "tmp_Gabor = []\n",
    "x_predict_score_1 = gm_model_Gabor.score_samples(train_samples_feats_matrix_Gabor)\n",
    "novelty_thresh_1 = np.amin(x_predict_score_1)\n",
    "\n",
    "# if data point belongs to the model then 1 else 0\n",
    "#tmp = np.zeros_like(y_predict_score)\n",
    "tmp_Gabor = np.repeat(1, 10000)\n",
    "tmp_Gabor[Gabor_y_predict_score < novelty_thresh_1] = 0"
   ]
  },
  {
   "cell_type": "code",
   "execution_count": 9,
   "metadata": {},
   "outputs": [],
   "source": [
    "#Predict novelty score of new data points\n",
    "LBP_y_predict_score = gm_model_LBP.score_samples(valid_samples_feats_matrix_LBP)\n",
    "tmp_LBP = []\n",
    "\n",
    "x_predict_score_2 = gm_model_LBP.score_samples(train_samples_feats_matrix_LBP)\n",
    "novelty_thresh_2 = np.amin(x_predict_score_2)\n",
    "\n",
    "# if data point belongs to the model then 1 else 0\n",
    "tmp_LBP = np.repeat(1, 10000)\n",
    "tmp_LBP[LBP_y_predict_score < novelty_thresh_2] = 0"
   ]
  },
  {
   "cell_type": "code",
   "execution_count": 11,
   "metadata": {},
   "outputs": [],
   "source": [
    "#Predict novelty score of new data points\n",
    "GLCM_y_predict_score = gm_model_GLCM.score_samples(valid_samples_feats_matrix_GLCM)\n",
    "tmp_GLCM = []\n",
    "\n",
    "x_predict_score_3 = gm_model_GLCM.score_samples(train_samples_feats_matrix_GLCM)\n",
    "novelty_thresh_3 = np.amin(x_predict_score_3)\n",
    "\n",
    "# if data point belongs to the model then 1 else 0\n",
    "tmp_GLCM = np.repeat(1, 10000)\n",
    "tmp_GLCM[GLCM_y_predict_score < novelty_thresh_3] = 0"
   ]
  },
  {
   "cell_type": "code",
   "execution_count": 12,
   "metadata": {
    "collapsed": true
   },
   "outputs": [],
   "source": [
    "#Ground truth\n",
    "y1 = np.repeat(1, 6000) #normal\n",
    "y2 = np.repeat(0, 4000) #abnormal\n",
    "y = np.concatenate((y1,y2))"
   ]
  },
  {
   "cell_type": "code",
   "execution_count": 13,
   "metadata": {},
   "outputs": [
    {
     "data": {
      "image/png": "[encoded data removed]",
      "text/plain": [
       "<matplotlib.figure.Figure at 0x7fb84788ed10>"
      ]
     },
     "metadata": {},
     "output_type": "display_data"
    }
   ],
   "source": [
    "import matplotlib.pyplot as pl\n",
    "import matplotlib\n",
    "from skimage import io\n",
    "\n",
    "\n",
    "Gabor_fpr,Gabor_tpr,Gabor_thresh = sklearn.metrics.roc_curve(y,Gabor_y_predict_score)\n",
    "GLCM_fpr,GLCM_tpr,GLCM_thresh = sklearn.metrics.roc_curve(y,GLCM_y_predict_score)\n",
    "LBP_fpr,LBP_tpr,LBP_thresh = sklearn.metrics.roc_curve(y,LBP_y_predict_score)\n",
    "\n",
    "f,ax = pl.subplots(1,1)\n",
    "ax.plot(Gabor_fpr,Gabor_tpr,label=\"GMM-Gabor\")\n",
    "ax.plot(GLCM_fpr,GLCM_tpr,label=\"GMM-GLCM\")\n",
    "ax.plot(LBP_fpr,LBP_tpr,label=\"GMM-LBP\")\n",
    "\n",
    "ax.set_xlabel(\"False Positive Rate\")\n",
    "ax.set_ylabel(\"True Positive Rate\")\n",
    "ax.set_title(\"ROC curves\")\n",
    "ax.legend(loc=\"lower right\")\n",
    "\n",
    "io.show()"
   ]
  },
  {
   "cell_type": "code",
   "execution_count": 14,
   "metadata": {
    "collapsed": true
   },
   "outputs": [],
   "source": [
    "f.savefig('GMM_GLCM-vs-Gabor-vs-LBP_valid.png')"
   ]
  },
  {
   "cell_type": "code",
   "execution_count": null,
   "metadata": {
    "collapsed": true
   },
   "outputs": [],
   "source": []
  }
 ],
 "metadata": {
  "kernelspec": {
   "display_name": "Python 2",
   "language": "python",
   "name": "python2"
  },
  "language_info": {
   "codemirror_mode": {
    "name": "ipython",
    "version": 2
   },
   "file_extension": ".py",
   "mimetype": "text/x-python",
   "name": "python",
   "nbconvert_exporter": "python",
   "pygments_lexer": "ipython2",
   "version": "2.7.13"
  }
 },
 "nbformat": 4,
 "nbformat_minor": 2
}
